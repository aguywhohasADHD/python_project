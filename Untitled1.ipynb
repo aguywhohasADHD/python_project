{
 "cells": [
  {
   "cell_type": "code",
   "execution_count": null,
   "id": "34059be9-b77e-4141-a41a-beef2858586e",
   "metadata": {
    "tags": []
   },
   "outputs": [],
   "source": [
    "import csv\n",
    "f=open('bus_station.csv')\n",
    "data=csv.reader(f)\n",
    "for row in data:\n",
    "    print(row)"
   ]
  },
  {
   "cell_type": "code",
   "execution_count": null,
   "id": "b91f9edb-2ed1-4b1a-86cd-6d58d4f3e225",
   "metadata": {
    "tags": []
   },
   "outputs": [],
   "source": [
    "import csv\n",
    "f=open('bus_station.csv')\n",
    "data=csv.reader(f)\n",
    "ride=[]\n",
    "getoff=[]\n",
    "station_count_temp=0\n",
    "bus_name=input(\"버스 노선을 입력하세요 : \")\n",
    "for row in data:\n",
    "    if bus_name in row[2]:\n",
    "        ride.append(int(row[6]))\n",
    "        getoff.append(int(row[7]))\n",
    "        station_count_temp+=1\n",
    "#print(ride)\n",
    "#print(getoff)\n",
    "bus_station_names=[]\n",
    "for d in range(station_count_temp):\n",
    "    bus_station_names.append(row[5])\n",
    "from matplotlib import pyplot as plt\n",
    "plt.style.use('ggplot')\n",
    "plt.figure(figsize=(10,5),dpi=300)\n",
    "plt.rc('font',family='Malgun Gothic')\n",
    "plt.title(bus_name+' 노선의 정류장별 승하차수')\n",
    "plt.plot(ride, label='승차')\n",
    "plt.plot(getoff, label='하차')\n",
    "plt.xlabel(bus_station_names)\n",
    "plt.legend()\n",
    "plt.show()\n",
    "# 내가 하고 싶은 것"
   ]
  },
  {
   "cell_type": "code",
   "execution_count": null,
   "id": "2580e0be-d8a8-40b3-a48b-dffbba9f696f",
   "metadata": {},
   "outputs": [],
   "source": [
    "import csv\n",
    "from matplotlib import pyplot as plt\n",
    "f=open('bus_station_month_may.csv')\n",
    "data=csv.reader(f)\n",
    "next(data)\n",
    "enter=0\n",
    "getoff=0\n",
    "label=['승차승객수','하차승객수']\n",
    "c=['#14CCCB','#389993','#FF1C6A','#CC14AF']\n",
    "#mx=[0] #최대 승차 인원을 저장할 리스트\n",
    "#mx_statio=[''] #최대 승차 인원 역 이름을 저장할 리스트 초기화\n",
    "bus_name=input('버스 노선을 입력하세요 : ')\n",
    "for row in data:\n",
    "    if bus_name in row[2]:\n",
    "        plt.figure(dpi=300)\n",
    "        plt.title(\"%s, 정류장 : %s\"%(bus_name,row[5]))\n",
    "        plt.pie(row[6:7],labels=label,autopct='%1.f%%')\n",
    "        plt.axis('equal')\n",
    "        plt.show()"
   ]
  },
  {
   "cell_type": "code",
   "execution_count": null,
   "id": "11b9dd53-d112-446b-8b11-9ae37f8efd2d",
   "metadata": {
    "tags": []
   },
   "outputs": [],
   "source": [
    "import matplotlib.pyplot as plt\n",
    "import matplotlib as mpl\n",
    "import pandas as pd\n",
    "ride=[]\n",
    "getoff=[]\n",
    "choose_month=input('몇월 데이터를 불러오시겠습니까?')\n",
    "if choose_month=='january':\n",
    "    df=pd.read_csv('bus_station_month_january.csv',encoding='cp949')\n",
    "elif choose_month=='feburary':\n",
    "    df=pd.read_csv('bus_station_month_feburary.csv',encoding='cp949')\n",
    "elif choose_month=='march':\n",
    "    df=pd.read_csv('bus_station_month_march.csv',encoding='cp949')\n",
    "elif choose_month=='april':\n",
    "    df=pd.read_csv('bus_station_month_april.csv',encoding='cp949')\n",
    "elif choose_month=='may':\n",
    "    df=pd.read_csv('bus_station_month_may.csv',encoding='cp949')\n",
    "else:\n",
    "    raise ValueError('해당 데이터가 없거나 잘못 입력하였습니다.')\n",
    "#bus_name=input('버스 노선을 입력하세요 : ')\n",
    "font_name=mpl.font_manager.FontProperties(frame='C:/Windows/Fonts/malgun.ttf').get_name()\n",
    "mpl.rc('font',family=font_name)\n",
    "df.loc[bus_name]"
   ]
  },
  {
   "cell_type": "code",
   "execution_count": null,
   "id": "aed39422-1ec1-493c-b24a-92615fbc71a5",
   "metadata": {
    "tags": []
   },
   "outputs": [],
   "source": [
    "import matplotlib as mpl\n",
    "import matplotlib.pyplot as plt\n",
    "font_name = mpl.font_manager.FontProperties(fname='C:/Windows/Fonts/malgun.ttf').get_name()\n",
    "mpl.rc('font',family=font_name)\n",
    "ax=city_df.plot(kind='bar',title='날씨',figsize=(12,4),legend=True,fontsize=12)\n",
    "ax.set_xlabel('도시', fontsize=12)\n",
    "ax.set_ylabel('기온/습도', fontsize=12)\n",
    "ax.legend(['기온', '습도'], fontsize=12)"
   ]
  },
  {
   "cell_type": "code",
   "execution_count": null,
   "id": "a9c0d29d-ebeb-4cac-aca5-f73c16df8916",
   "metadata": {
    "tags": []
   },
   "outputs": [],
   "source": [
    "import csv\n",
    "f=open('bus_station_month_may.csv')\n",
    "data=csv.reader(f)\n",
    "next(data)\n",
    "mx=0\n",
    "rate=0\n",
    "mx_station=''\n",
    "for row in data:\n",
    "    for i in range(6,7):\n",
    "        row[i]=int(row[i])\n",
    "    if row[7]!=0 and (row[4]+row[6])>100000:\n",
    "        rate=row[6]/(row[6]+row[7])\n",
    "        if rate>mx:\n",
    "            mx=rate\n",
    "            mx_station=row[3]+' '+row[1]\n",
    "print(mx_station,round(mx*100,2))"
   ]
  },
  {
   "cell_type": "code",
   "execution_count": null,
   "id": "6456e39b-bda3-4b95-a58d-70c67bbd0061",
   "metadata": {
    "tags": []
   },
   "outputs": [],
   "source": [
    "%matplotlib inline\n",
    "import pandas as pd\n",
    "import matplotlib as mpl\n",
    "from matplotlib import pyplot as plt\n",
    "df=pd.read_csv(\"weather.csv\",index_col='point',encoding='euc-kr')\n",
    "df\n",
    "city_df=df.loc[['서울','인천','대전','대구','광주','부산','울산']]\n",
    "city_df"
   ]
  }
 ],
 "metadata": {
  "kernelspec": {
   "display_name": "Python 3 (ipykernel)",
   "language": "python",
   "name": "python3"
  },
  "language_info": {
   "codemirror_mode": {
    "name": "ipython",
    "version": 3
   },
   "file_extension": ".py",
   "mimetype": "text/x-python",
   "name": "python",
   "nbconvert_exporter": "python",
   "pygments_lexer": "ipython3",
   "version": "3.11.3"
  }
 },
 "nbformat": 4,
 "nbformat_minor": 5
}
