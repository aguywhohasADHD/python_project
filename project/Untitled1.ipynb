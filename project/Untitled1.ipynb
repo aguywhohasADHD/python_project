{
 "cells": [
  {
   "cell_type": "code",
   "execution_count": null,
   "id": "1b37bb21-0c78-44c2-bec9-9ee8f80b1a6e",
   "metadata": {},
   "outputs": [],
   "source": [
    "import pandas\n",
    "print(pandas.__version__)"
   ]
  },
  {
   "cell_type": "code",
   "execution_count": 5,
   "id": "68c87116-6338-4fae-acc3-dc69f58e83a8",
   "metadata": {
    "scrolled": true
   },
   "outputs": [
    {
     "name": "stdin",
     "output_type": "stream",
     "text": [
      "2023년 데이터중 몇 월 데이터를 불러오시겠습니까(영어로 입력하세요)? janUary\n",
      "버스 노선을 입력해주세요(csv파일의 노선 번호열을 참고하여 입력해주세요). aasdf\n"
     ]
    },
    {
     "ename": "TypeError",
     "evalue": "입력한 버스 노선 데이터가 %s 파일에 존재하지 않습니다.",
     "output_type": "error",
     "traceback": [
      "\u001b[1;31m---------------------------------------------------------------------------\u001b[0m",
      "\u001b[1;31mTypeError\u001b[0m                                 Traceback (most recent call last)",
      "Cell \u001b[1;32mIn[5], line 37\u001b[0m\n\u001b[0;32m     35\u001b[0m bus_name_in_data\u001b[38;5;241m=\u001b[39m\u001b[38;5;28;01mFalse\u001b[39;00m\n\u001b[0;32m     36\u001b[0m \u001b[38;5;28;01mif\u001b[39;00m df2\u001b[38;5;241m.\u001b[39mempty:\n\u001b[1;32m---> 37\u001b[0m     \u001b[38;5;28;01mraise\u001b[39;00m \u001b[38;5;167;01mTypeError\u001b[39;00m(\u001b[38;5;124m\"\u001b[39m\u001b[38;5;124m입력한 버스 노선 데이터가 \u001b[39m\u001b[38;5;132;01m%s\u001b[39;00m\u001b[38;5;124m 파일에 존재하지 않습니다.\u001b[39m\u001b[38;5;124m\"\u001b[39m)\n\u001b[0;32m     38\u001b[0m \u001b[38;5;28;01mfor\u001b[39;00m index, row \u001b[38;5;129;01min\u001b[39;00m df2\u001b[38;5;241m.\u001b[39miterrows():\n\u001b[0;32m     39\u001b[0m     \u001b[38;5;28;01mif\u001b[39;00m bus_name \u001b[38;5;129;01min\u001b[39;00m row[\u001b[38;5;124m'\u001b[39m\u001b[38;5;124m노선번호\u001b[39m\u001b[38;5;124m'\u001b[39m]:\n",
      "\u001b[1;31mTypeError\u001b[0m: 입력한 버스 노선 데이터가 %s 파일에 존재하지 않습니다."
     ]
    }
   ],
   "source": [
    "import pandas as pd\n",
    "import matplotlib.pyplot as plt\n",
    "choose_month=input(\"2023년 데이터중 몇 월 데이터를 불러오시겠습니까(영어로 입력하세요)?\")\n",
    "month_data=\"\"\n",
    "f_name=\"\"\n",
    "def month_import(month):\n",
    "    global df\n",
    "    global month_data\n",
    "    global f_name\n",
    "    if month.lower()=='january':\n",
    "        f_name='bus_station_month_january.csv'\n",
    "    elif month.lower()=='feburary':\n",
    "        f_name='bus_station_month_feburary.csv'\n",
    "    elif month.lower()=='march':\n",
    "        f_name='bus_station_month_march.csv'\n",
    "    elif month.lower()=='april':\n",
    "        f_name='bus_station_month_april.csv'\n",
    "    elif month.lower()=='may':\n",
    "        f_name='bus_station_month_may.csv'\n",
    "    elif month.lower()=='june':\n",
    "        f_name='bus_station_month_june.csv'\n",
    "    else:\n",
    "        raise ValueError('잘못 입력하셨습니다.')\n",
    "    df=pd.read_csv(f_name,encoding='cp949')\n",
    "    month_data=f_name.split('_')[3].split('_')[0]+'월'\n",
    "    return df\n",
    "df=month_import(choose_month)\n",
    "bus_name=input('버스 노선을 입력해주세요(csv파일의 노선 번호열을 참고하여 입력해주세요).')\n",
    "df2=df[df['노선번호']==bus_name]\n",
    "bus_name_in_data=False\n",
    "if df2.empty:\n",
    "    raise TypeError(\"입력한 버스 노선 데이터가 %s 파일에 존재하지 않습니다.\"%(f_name))\n",
    "for index, row in df2.iterrows():\n",
    "    if bus_name in row['노선번호']:\n",
    "        bus_name_in_data=True\n",
    "        plt.figure(dpi=300)\n",
    "        plt.rc('font',family='Malgun Gothic')\n",
    "        plt.title(\"%s,%s번 버스, 정류장 : %s\"%(month_data,bus_name,row[5]))\n",
    "        plt.pie(row[6:8],labels=['승차승객수','하차승객수'],autopct='%.1f%%')\n",
    "        plt.axis('equal')\n",
    "        plt.legend()\n",
    "        plt.show()"
   ]
  },
  {
   "cell_type": "code",
   "execution_count": null,
   "id": "54c3536f-adce-4e3c-8475-20295416549d",
   "metadata": {},
   "outputs": [],
   "source": [
    "import pandas as pd\n",
    "import matplotlib.pyplot as plt\n",
    "choose_month+input('2023년 데이터 중 몇 월 데이터를 불러오시겠습니까?')\n",
    "month_data=\"\"\n",
    "f_name=\"\"\n",
    "def month_import(month):\n",
    "    global df\n",
    "    global month_data\n",
    "    global f_name\n",
    "    if month.lower()=='january':\n",
    "        f_name='bus_station_month_january.csv'\n",
    "    elif month.lower()=='feburary':\n",
    "        f_name='bus_station_month_feburary.csv'\n",
    "    elif month.lower()=='march':\n",
    "        f_name='bus_station_month_march.csv'\n",
    "    elif month.lower()=='april':\n",
    "        f_name='bus_station_month_april.csv'\n",
    "    elif month.lower()=='may':\n",
    "        f_name='bus_station_month_may.csv'\n",
    "    elif month.lower()=='june':\n",
    "        f_name='bus_station_month_june.csv'\n",
    "    else:\n",
    "        raise ValueError('잘못 입력하셨습니다.')\n",
    "    df=pd.read_csv(f_name,encoding='cp949')\n",
    "    month_data=f_name.split('_')[3].split('_')[0]+'월'\n",
    "    return df\n",
    "df=month_import(choose_month)\n",
    "bus_name=input(\"버스 노선을 입력해주세요(csv파일의 노선 번호명을 참고하여 입력해주세요).\")\n",
    "df2=df[df['노선번호']==bus_name]\n",
    "if df2.empty:\n",
    "    raise TypeError('입력한 버스 노선 데이터가 %s 파일에 존재하지 않습니다.')\n",
    "num_subplots=len(df2)\n",
    "cols=3\n",
    "rows=-(-num_subplots//cols)\n",
    "fig,axs=plt.subplots(rows,cols,figsize=(12,4*rows),dpi=300)\n",
    "plt.rc('font',family='Malgun Gothic')\n",
    "for idx,(index,row) in enumerate(df2,iterrows()):\n",
    "    if bus_name in row['노선번호']:\n",
    "        aax=axs[idx//cols,idx%cols] if rows > 1 else axs[idx%cols]\n",
    "        ax.set_title(\"%s, %s번 버스, 정류장: %s\"%(month_data,bus_name,row[5]))\n",
    "        ax.axis('equal')\n",
    "        ax.legend()\n",
    "for idx in range(num_subplots,row*cols):\n",
    "    axs[idx//cols,idx%cols].axis('off')\n",
    "plt.tight__layout()\n",
    "plt.show()"
   ]
  },
  {
   "cell_type": "code",
   "execution_count": null,
   "id": "15fdb79f-5a31-4849-801e-9983ca9e18a2",
   "metadata": {},
   "outputs": [],
   "source": [
    "import matplotlib.pyplot as plt\n",
    "import numpy as np\n",
    "fig,axes=plt.subplots(2,2)\n",
    "x=[i for i in range(20)]\n",
    "y=[np.random.randint(1,10) for i in range(20)]\n",
    "axes[0][0].title(\"test\")\n",
    "axes[0][0].plot(x,y)\n",
    "x=range(20)\n",
    "y=[np.random.randint(1,10) for i in range(20)]\n",
    "axes[0][1].bar(x,y)\n",
    "x=range(20)\n",
    "y=[np.random.randint(1,10) for i in range(20)]\n",
    "axes[1][0].bar(x,y)\n",
    "x=range(20)\n",
    "y=[np.random.randint(1,10) for i in range(20)]\n",
    "axes[1][1].scatter(x,y)\n",
    "plt.tight_layout()\n",
    "plt.show()"
   ]
  }
 ],
 "metadata": {
  "kernelspec": {
   "display_name": "Python 3 (ipykernel)",
   "language": "python",
   "name": "python3"
  },
  "language_info": {
   "codemirror_mode": {
    "name": "ipython",
    "version": 3
   },
   "file_extension": ".py",
   "mimetype": "text/x-python",
   "name": "python",
   "nbconvert_exporter": "python",
   "pygments_lexer": "ipython3",
   "version": "3.11.4"
  }
 },
 "nbformat": 4,
 "nbformat_minor": 5
}
