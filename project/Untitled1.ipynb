{
 "cells": [
  {
   "cell_type": "code",
   "execution_count": null,
   "id": "34059be9-b77e-4141-a41a-beef2858586e",
   "metadata": {
    "tags": []
   },
   "outputs": [],
   "source": [
    "import pandas\n",
    "pandas.__version__"
   ]
  },
  {
   "cell_type": "code",
   "execution_count": 3,
   "id": "2580e0be-d8a8-40b3-a48b-dffbba9f696f",
   "metadata": {
    "scrolled": true
   },
   "outputs": [
    {
     "name": "stdin",
     "output_type": "stream",
     "text": [
      "2023년 데이터중 몇 월 데이터를 불러오시겠습니까?(영어로 입력하세요). may\n",
      "버스 노선을 입력하세요 :  341\n"
     ]
    },
    {
     "ename": "NameError",
     "evalue": "name 'month_data' is not defined",
     "output_type": "error",
     "traceback": [
      "\u001b[1;31m---------------------------------------------------------------------------\u001b[0m",
      "\u001b[1;31mNameError\u001b[0m                                 Traceback (most recent call last)",
      "Cell \u001b[1;32mIn[3], line 45\u001b[0m\n\u001b[0;32m     43\u001b[0m plt\u001b[38;5;241m.\u001b[39mfigure(dpi\u001b[38;5;241m=\u001b[39m\u001b[38;5;241m300\u001b[39m)\n\u001b[0;32m     44\u001b[0m plt\u001b[38;5;241m.\u001b[39mrc(\u001b[38;5;124m'\u001b[39m\u001b[38;5;124mfont\u001b[39m\u001b[38;5;124m'\u001b[39m,family\u001b[38;5;241m=\u001b[39m\u001b[38;5;124m'\u001b[39m\u001b[38;5;124mMalgun Gothic\u001b[39m\u001b[38;5;124m'\u001b[39m)\n\u001b[1;32m---> 45\u001b[0m plt\u001b[38;5;241m.\u001b[39mtitle(\u001b[38;5;124m\"\u001b[39m\u001b[38;5;132;01m%s\u001b[39;00m\u001b[38;5;124m,\u001b[39m\u001b[38;5;132;01m%s\u001b[39;00m\u001b[38;5;124m, 정류장 : \u001b[39m\u001b[38;5;132;01m%s\u001b[39;00m\u001b[38;5;124m\"\u001b[39m\u001b[38;5;241m%\u001b[39m(\u001b[43mmonth_data\u001b[49m,bus_name,row[\u001b[38;5;241m5\u001b[39m]))\n\u001b[0;32m     46\u001b[0m plt\u001b[38;5;241m.\u001b[39mpie(row[\u001b[38;5;241m6\u001b[39m:\u001b[38;5;241m8\u001b[39m],labels\u001b[38;5;241m=\u001b[39m[\u001b[38;5;124m'\u001b[39m\u001b[38;5;124m승차승객수\u001b[39m\u001b[38;5;124m'\u001b[39m,\u001b[38;5;124m'\u001b[39m\u001b[38;5;124m하차승객수\u001b[39m\u001b[38;5;124m'\u001b[39m])\n\u001b[0;32m     47\u001b[0m plt\u001b[38;5;241m.\u001b[39maxis(\u001b[38;5;124m'\u001b[39m\u001b[38;5;124mequal\u001b[39m\u001b[38;5;124m'\u001b[39m)\n",
      "\u001b[1;31mNameError\u001b[0m: name 'month_data' is not defined"
     ]
    },
    {
     "data": {
      "text/plain": [
       "<Figure size 1920x1440 with 0 Axes>"
      ]
     },
     "metadata": {},
     "output_type": "display_data"
    }
   ],
   "source": [
    "import csv\n",
    "from matplotlib import pyplot as plt\n",
    "# f=open('bus_station_month_january.csv',encoding='cp949')\n",
    "# print(f)\n",
    "choose_month=input(\"2023년 데이터중 몇 월 데이터를 불러오시겠습니까?(영어로 입력하세요).\")\n",
    "def month_import(month):\n",
    "    global f\n",
    "    global month_data\n",
    "    if month=='january' or 'January':\n",
    "        f=open('bus_station_month_january.csv',encoding='cp949')\n",
    "        month_data='1월'\n",
    "        return f\n",
    "        return month_data\n",
    "    elif month=='feburary' or 'Feburary':\n",
    "        f=open('bus_station_month_feburary.csv',encoding='cp949')\n",
    "        month_data='2월'\n",
    "        return f,month_data\n",
    "    elif month=='march' or 'March':\n",
    "        f=open('bus_station_month_march.csv',encoding='cp949')\n",
    "        month_data='3월'\n",
    "        return f,month_data\n",
    "    elif month=='april' or 'April':\n",
    "        f=open('bus_station_month_april.csv',encoding='cp949')\n",
    "        month_data='4월'\n",
    "        return f,month_data\n",
    "    elif month=='may' or 'May':\n",
    "        f=open('bus_station_month_may.csv',encoding='cp949')\n",
    "        month_data='5월'\n",
    "        return f,month_data\n",
    "    else:\n",
    "        raise ValueError('잘못 입력하셨습니다.')\n",
    "month_import(choose_month)\n",
    "data=csv.reader(f)\n",
    "next(data)\n",
    "c=['#14CCCB','#389993']\n",
    "bus_name=input('버스 노선을 입력하세요 : ')\n",
    "for row in data:\n",
    "    if bus_name in row[2]:\n",
    "        plt.figure(dpi=300)\n",
    "        plt.rc('font',family='Malgun Gothic')\n",
    "        plt.title(\"%s,%s, 정류장 : %s\"%(month_data,bus_name,row[5]))\n",
    "        plt.pie(row[6:8],labels=['승차승객수','하차승객수'])\n",
    "        plt.axis('equal')\n",
    "        plt.show()"
   ]
  },
  {
   "cell_type": "code",
   "execution_count": null,
   "id": "92bc77e4-38be-4996-aaae-56abe572f6cf",
   "metadata": {},
   "outputs": [],
   "source": []
  }
 ],
 "metadata": {
  "kernelspec": {
   "display_name": "Python 3 (ipykernel)",
   "language": "python",
   "name": "python3"
  },
  "language_info": {
   "codemirror_mode": {
    "name": "ipython",
    "version": 3
   },
   "file_extension": ".py",
   "mimetype": "text/x-python",
   "name": "python",
   "nbconvert_exporter": "python",
   "pygments_lexer": "ipython3",
   "version": "3.11.4"
  }
 },
 "nbformat": 4,
 "nbformat_minor": 5
}
