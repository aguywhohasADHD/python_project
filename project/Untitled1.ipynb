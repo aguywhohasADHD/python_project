{
 "cells": [
  {
   "cell_type": "code",
   "execution_count": null,
   "id": "34059be9-b77e-4141-a41a-beef2858586e",
   "metadata": {
    "tags": []
   },
   "outputs": [],
   "source": [
    "import pandas\n",
    "pandas.__version__"
   ]
  },
  {
   "cell_type": "code",
   "execution_count": 16,
   "id": "8b186d84-aeaa-4356-8f19-2a4782a91044",
   "metadata": {},
   "outputs": [
    {
     "name": "stdin",
     "output_type": "stream",
     "text": [
      "2023년 데이터중 몇 월 데이터를 불러오시겠습니까?(영어로 입력하세요). asdf\n"
     ]
    },
    {
     "ename": "ValueError",
     "evalue": "잘못 입력하셨습니다.",
     "output_type": "error",
     "traceback": [
      "\u001b[1;31m---------------------------------------------------------------------------\u001b[0m",
      "\u001b[1;31mValueError\u001b[0m                                Traceback (most recent call last)",
      "Cell \u001b[1;32mIn[16], line 30\u001b[0m\n\u001b[0;32m     28\u001b[0m     \u001b[38;5;28;01melse\u001b[39;00m:\n\u001b[0;32m     29\u001b[0m         \u001b[38;5;28;01mraise\u001b[39;00m \u001b[38;5;167;01mValueError\u001b[39;00m(\u001b[38;5;124m'\u001b[39m\u001b[38;5;124m잘못 입력하셨습니다.\u001b[39m\u001b[38;5;124m'\u001b[39m)\n\u001b[1;32m---> 30\u001b[0m f \u001b[38;5;241m=\u001b[39m \u001b[43mmonth_import\u001b[49m\u001b[43m(\u001b[49m\u001b[43mchoose_month\u001b[49m\u001b[43m)\u001b[49m\n\u001b[0;32m     31\u001b[0m data\u001b[38;5;241m=\u001b[39mcsv\u001b[38;5;241m.\u001b[39mreader(f)\n\u001b[0;32m     32\u001b[0m \u001b[38;5;28mprint\u001b[39m(month_data)\n",
      "Cell \u001b[1;32mIn[16], line 29\u001b[0m, in \u001b[0;36mmonth_import\u001b[1;34m(month)\u001b[0m\n\u001b[0;32m     27\u001b[0m     \u001b[38;5;28;01mreturn\u001b[39;00m f\n\u001b[0;32m     28\u001b[0m \u001b[38;5;28;01melse\u001b[39;00m:\n\u001b[1;32m---> 29\u001b[0m     \u001b[38;5;28;01mraise\u001b[39;00m \u001b[38;5;167;01mValueError\u001b[39;00m(\u001b[38;5;124m'\u001b[39m\u001b[38;5;124m잘못 입력하셨습니다.\u001b[39m\u001b[38;5;124m'\u001b[39m)\n",
      "\u001b[1;31mValueError\u001b[0m: 잘못 입력하셨습니다."
     ]
    }
   ],
   "source": [
    "import csv\n",
    "from matplotlib import pyplot as plt\n",
    "choose_month=input(\"2023년 데이터중 몇 월 데이터를 불러오시겠습니까?(영어로 입력하세요).\")\n",
    "month_data=''\n",
    "def month_import(month):\n",
    "    global f\n",
    "    global month_data\n",
    "    if month=='january' or month=='January':\n",
    "        f=open('bus_station_month_january.csv',encoding='cp949')\n",
    "        month_data='1월'\n",
    "        return f\n",
    "    elif month=='feburary' or month=='Feburary':\n",
    "        f=open('bus_station_month_feburary.csv',encoding='cp949')\n",
    "        month_data='2월'\n",
    "        return f\n",
    "    elif month=='march' or month=='March':\n",
    "        f=open('bus_station_month_march.csv',encoding='cp949')\n",
    "        month_data='3월'\n",
    "        return f\n",
    "    elif month=='april' or month=='April':\n",
    "        f=open('bus_station_month_april.csv',encoding='cp949')\n",
    "        month_data='4월'\n",
    "        return f\n",
    "    elif month=='may' or month=='May':\n",
    "        f=open('bus_station_month_may.csv',encoding='cp949')\n",
    "        month_data='5월'\n",
    "        return f\n",
    "    else:\n",
    "        raise ValueError('잘못 입력하셨습니다.')\n",
    "f = month_import(choose_month)\n",
    "data=csv.reader(f)\n",
    "print(month_data)\n",
    "next(data)\n",
    "c=['#14CCCB','#389993']\n",
    "bus_name=input('버스 노선을 입력하세요 : ')\n",
    "for row in data:\n",
    "    if bus_name in row[2]:\n",
    "        plt.figure(dpi=300)\n",
    "        plt.rc('font',family='Malgun Gothic')\n",
    "        plt.title(\"%s,%s, 정류장 : %s\"%(month_data,bus_name,row[5]))\n",
    "        plt.pie(row[6:8],labels=['승차승객수','하차승객수'],autopct='%.1f%%')\n",
    "        plt.axis('equal')\n",
    "        plt.legend()\n",
    "        plt.show()"
   ]
  }
 ],
 "metadata": {
  "kernelspec": {
   "display_name": "Python 3 (ipykernel)",
   "language": "python",
   "name": "python3"
  },
  "language_info": {
   "codemirror_mode": {
    "name": "ipython",
    "version": 3
   },
   "file_extension": ".py",
   "mimetype": "text/x-python",
   "name": "python",
   "nbconvert_exporter": "python",
   "pygments_lexer": "ipython3",
   "version": "3.11.4"
  }
 },
 "nbformat": 4,
 "nbformat_minor": 5
}
