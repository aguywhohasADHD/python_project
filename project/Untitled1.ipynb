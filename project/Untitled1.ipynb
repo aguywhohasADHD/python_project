{
 "cells": [
  {
   "cell_type": "code",
   "execution_count": 6,
   "id": "8b186d84-aeaa-4356-8f19-2a4782a91044",
   "metadata": {},
   "outputs": [
    {
     "name": "stdin",
     "output_type": "stream",
     "text": [
      "2023년 데이터중 몇 월 데이터를 불러오시겠습니까?(영어로 입력하세요). april\n",
      "버스 노선을 입력하세요 :  3412\n"
     ]
    }
   ],
   "source": [
    "import csv\n",
    "from matplotlib import pyplot as plt\n",
    "choose_month=input(\"2023년 데이터중 몇 월 데이터를 불러오시겠습니까?(영어로 입력하세요).\")\n",
    "month_data=''\n",
    "f_name=''\n",
    "def month_import(month):\n",
    "    global f\n",
    "    global month_data\n",
    "    global f_name\n",
    "    if month=='january' or month=='January':\n",
    "        f=open('bus_station_month_january.csv',encoding='cp949')\n",
    "        month_data='1월'\n",
    "        f_name='bus_station_month_january.csv'\n",
    "        return f\n",
    "    elif month=='feburary' or month=='Feburary':\n",
    "        f=open('bus_station_month_feburary.csv',encoding='cp949')\n",
    "        month_data='2월'\n",
    "        f_name='bus_station_month_feburary.csv'\n",
    "        return f\n",
    "    elif month=='march' or month=='March':\n",
    "        f=open('bus_station_month_march.csv',encoding='cp949')\n",
    "        month_data='3월'\n",
    "        f_name='bus_station_month_march.csv'\n",
    "        return f\n",
    "    elif month=='april' or month=='April':\n",
    "        f=open('bus_station_month_april.csv',encoding='cp949')\n",
    "        month_data='4월'\n",
    "        f_name='bus_station_month_april.csv'\n",
    "        return f\n",
    "    elif month=='may' or month=='May':\n",
    "        f=open('bus_station_month_may.csv',encoding='cp949')\n",
    "        month_data='5월'\n",
    "        f_name='bus_station_month_may.csv'\n",
    "        return f\n",
    "    elif month=='june' or month=='June':\n",
    "        f=open('bus_station_month_june.csv',encoding='cp949')\n",
    "        month_data='6월'\n",
    "        f_name='bus_station_month_june.csv'\n",
    "        return f\n",
    "    else:\n",
    "        raise ValueError('잘못 입력하셨습니다.')\n",
    "f=month_import(choose_month)\n",
    "data=csv.reader(f)\n",
    "next(data)\n",
    "c=['#14CCCB','#389993']\n",
    "bus_name=input('버스 노선을 입력하세요 : ')\n",
    "bus_name_in_data=0\n",
    "for row in data:\n",
    "    if bus_name in row[2]:\n",
    "        bus_name_in_data=1\n",
    "        plt.figure(dpi=300)\n",
    "        plt.rc('font',family='Malgun Gothic')\n",
    "        plt.title(\"%s,%s, 정류장 : %s\"%(month_data,bus_name,row[5]))\n",
    "        plt.pie(row[6:8],labels=['승차승객수','하차승객수'],autopct='%.1f%%')\n",
    "        plt.axis('equal')\n",
    "        plt.legend()\n",
    "        plt.show()\n",
    "if bus_name_in_data==0:\n",
    "    raise TypeError('입력한 버스 노선 데이터가 %s 파일에 존재하지 않습니다.'%(f_name))"
   ]
  },
  {
   "cell_type": "code",
   "execution_count": 31,
   "id": "626979a4-d75e-41bd-bc39-b175817926a4",
   "metadata": {},
   "outputs": [
    {
     "name": "stdin",
     "output_type": "stream",
     "text": [
      "몇 월 데이터를 불러오시겠습니까? march\n",
      "버스 노선을 입력하세요 :  340\n"
     ]
    },
    {
     "data": {
      "image/png": "[encoded data removed]",
      "text/plain": [
       "<Figure size 640x480 with 2 Axes>"
      ]
     },
     "metadata": {},
     "output_type": "display_data"
    }
   ],
   "source": [
    "import csv\n",
    "import matplotlib.pyplot as plt\n",
    "choose_month=input('몇 월 데이터를 불러오시겠습니까?')\n",
    "month_data=''\n",
    "f_name=''\n",
    "def month_import(month):\n",
    "    global f\n",
    "    global month_data\n",
    "    global f_name\n",
    "    if month=='january' or month=='January':\n",
    "        f=open('bus_station_month_january.csv',encoding='cp949')\n",
    "        month_data='1월'\n",
    "        f_name='bus_station_month_january.csv'\n",
    "        return f\n",
    "    elif month=='feburary' or month=='Feburary':\n",
    "        f=open('bus_station_month_feburary.csv',encoding='cp949')\n",
    "        month_data='2월'\n",
    "        f_name='bus_station_month_feburary.csv'\n",
    "        return f\n",
    "    elif month=='march' or month=='March':\n",
    "        f=open('bus_station_month_march.csv',encoding='cp949')\n",
    "        month_data='3월'\n",
    "        f_name='bus_station_month_march.csv'\n",
    "        return f\n",
    "    elif month=='april' or month=='April':\n",
    "        f=open('bus_station_month_april.csv',encoding='cp949')\n",
    "        month_data='4월'\n",
    "        f_name='bus_station_month_april.csv'\n",
    "        return f\n",
    "    elif month=='may' or month=='May':\n",
    "        f=open('bus_station_month_may.csv',encoding='cp949')\n",
    "        month_data='5월'\n",
    "        f_name='bus_station_month_may.csv'\n",
    "        return f\n",
    "    elif month=='june' or month=='June':\n",
    "        f=open('bus_station_month_june.csv',encoding='cp949')\n",
    "        month_data='6월'\n",
    "        f_name='bus_station_month_june.csv'\n",
    "        return f\n",
    "    else:\n",
    "        raise ValueError('잘못 입력하셨습니다.')\n",
    "f=month_import(choose_month)\n",
    "data=csv.reader(f)\n",
    "next(data)\n",
    "bus_name=input('버스 노선을 입력하세요 : ')\n",
    "bus_name_in_data=0\n",
    "ride=[]\n",
    "getoff=[]\n",
    "count_ride=0\n",
    "count_getoff=0\n",
    "figs, axes=plt.subplots(2,1)\n",
    "for row in data:\n",
    "    if bus_name in row[2]:\n",
    "        for i in row[6]:\n",
    "            ride.append(int(float(i)))\n",
    "            count_ride+=1\n",
    "        for i in row[7]:\n",
    "            getoff.append(int(float(i)))\n",
    "            count_getoff+=1\n",
    "axes[0].bar(range(count_ride),ride)\n",
    "# axes[0].title=(\"%s,%s\"%(month_data,bus_name))\n",
    "axes[1].bar(range(count_getoff),getoff)\n",
    "# axes[1].title=(\"%s,%s\"%(month_data,bus_name))\n",
    "plt.tight_layout()\n",
    "plt.show()"
   ]
  },
  {
   "cell_type": "code",
   "execution_count": 1,
   "id": "15fdb79f-5a31-4849-801e-9983ca9e18a2",
   "metadata": {},
   "outputs": [
    {
     "ename": "TypeError",
     "evalue": "'Text' object is not callable",
     "output_type": "error",
     "traceback": [
      "\u001b[1;31m---------------------------------------------------------------------------\u001b[0m",
      "\u001b[1;31mTypeError\u001b[0m                                 Traceback (most recent call last)",
      "Cell \u001b[1;32mIn[1], line 6\u001b[0m\n\u001b[0;32m      4\u001b[0m x\u001b[38;5;241m=\u001b[39m[i \u001b[38;5;28;01mfor\u001b[39;00m i \u001b[38;5;129;01min\u001b[39;00m \u001b[38;5;28mrange\u001b[39m(\u001b[38;5;241m20\u001b[39m)]\n\u001b[0;32m      5\u001b[0m y\u001b[38;5;241m=\u001b[39m[np\u001b[38;5;241m.\u001b[39mrandom\u001b[38;5;241m.\u001b[39mrandint(\u001b[38;5;241m1\u001b[39m,\u001b[38;5;241m10\u001b[39m) \u001b[38;5;28;01mfor\u001b[39;00m i \u001b[38;5;129;01min\u001b[39;00m \u001b[38;5;28mrange\u001b[39m(\u001b[38;5;241m20\u001b[39m)]\n\u001b[1;32m----> 6\u001b[0m \u001b[43maxes\u001b[49m\u001b[43m[\u001b[49m\u001b[38;5;241;43m0\u001b[39;49m\u001b[43m]\u001b[49m\u001b[43m[\u001b[49m\u001b[38;5;241;43m0\u001b[39;49m\u001b[43m]\u001b[49m\u001b[38;5;241;43m.\u001b[39;49m\u001b[43mtitle\u001b[49m\u001b[43m(\u001b[49m\u001b[38;5;124;43m\"\u001b[39;49m\u001b[38;5;124;43mtest\u001b[39;49m\u001b[38;5;124;43m\"\u001b[39;49m\u001b[43m)\u001b[49m\n\u001b[0;32m      7\u001b[0m axes[\u001b[38;5;241m0\u001b[39m][\u001b[38;5;241m0\u001b[39m]\u001b[38;5;241m.\u001b[39mplot(x,y)\n\u001b[0;32m      8\u001b[0m x\u001b[38;5;241m=\u001b[39m\u001b[38;5;28mrange\u001b[39m(\u001b[38;5;241m20\u001b[39m)\n",
      "\u001b[1;31mTypeError\u001b[0m: 'Text' object is not callable"
     ]
    },
    {
     "data": {
      "image/png": "[encoded data removed]",
      "text/plain": [
       "<Figure size 640x480 with 4 Axes>"
      ]
     },
     "metadata": {},
     "output_type": "display_data"
    }
   ],
   "source": [
    "import matplotlib.pyplot as plt\n",
    "import numpy as np\n",
    "fig,axes=plt.subplots(2,2)\n",
    "x=[i for i in range(20)]\n",
    "y=[np.random.randint(1,10) for i in range(20)]\n",
    "axes[0][0].title(\"test\")\n",
    "axes[0][0].plot(x,y)\n",
    "x=range(20)\n",
    "y=[np.random.randint(1,10) for i in range(20)]\n",
    "axes[0][1].bar(x,y)\n",
    "x=range(20)\n",
    "y=[np.random.randint(1,10) for i in range(20)]\n",
    "axes[1][0].bar(x,y)\n",
    "x=range(20)\n",
    "y=[np.random.randint(1,10) for i in range(20)]\n",
    "axes[1][1].scatter(x,y)\n",
    "plt.tight_layout()\n",
    "plt.show()"
   ]
  },
  {
   "cell_type": "code",
   "execution_count": null,
   "id": "4ae5020f-c3da-4888-8162-2e4c548852db",
   "metadata": {},
   "outputs": [],
   "source": []
  }
 ],
 "metadata": {
  "kernelspec": {
   "display_name": "Python 3 (ipykernel)",
   "language": "python",
   "name": "python3"
  },
  "language_info": {
   "codemirror_mode": {
    "name": "ipython",
    "version": 3
   },
   "file_extension": ".py",
   "mimetype": "text/x-python",
   "name": "python",
   "nbconvert_exporter": "python",
   "pygments_lexer": "ipython3",
   "version": "3.11.4"
  }
 },
 "nbformat": 4,
 "nbformat_minor": 5
}
