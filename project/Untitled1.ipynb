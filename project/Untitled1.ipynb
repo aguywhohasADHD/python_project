{
  "cells": [
    {
      "cell_type": "code",
      "source": [
        "!wget \"https://www.wfonts.com/download/data/2016/06/13/malgun-gothic/malgun.ttf\"\n",
        "!mv malgun.ttf /usr/share/fonts/truetype/\n",
        "import matplotlib as mpl\n",
        "mpl.font_manager._rebuild()"
      ],
      "metadata": {
        "colab": {
          "base_uri": "https://localhost:8080/",
          "height": 368
        },
        "id": "OhLV_fldbgxl",
        "outputId": "972cfc1e-045f-4997-8e64-d0d972b5bf73"
      },
      "id": "OhLV_fldbgxl",
      "execution_count": 2,
      "outputs": [
        {
          "output_type": "stream",
          "name": "stdout",
          "text": [
            "--2023-08-20 01:41:14--  https://www.wfonts.com/download/data/2016/06/13/malgun-gothic/malgun.ttf\n",
            "Resolving www.wfonts.com (www.wfonts.com)... 104.21.1.127, 172.67.129.58, 2606:4700:3037::6815:17f, ...\n",
            "Connecting to www.wfonts.com (www.wfonts.com)|104.21.1.127|:443... connected.\n",
            "HTTP request sent, awaiting response... 200 OK\n",
            "Length: 9595100 (9.2M) [application/octetstream]\n",
            "Saving to: ‘malgun.ttf’\n",
            "\n",
            "malgun.ttf           82%[===============>    ]   7.54M  64.4KB/s    eta 29s    ^C\n"
          ]
        },
        {
          "output_type": "error",
          "ename": "AttributeError",
          "evalue": "ignored",
          "traceback": [
            "\u001b[0;31m---------------------------------------------------------------------------\u001b[0m",
            "\u001b[0;31mAttributeError\u001b[0m                            Traceback (most recent call last)",
            "\u001b[0;32m<ipython-input-2-f47f79898096>\u001b[0m in \u001b[0;36m<cell line: 4>\u001b[0;34m()\u001b[0m\n\u001b[1;32m      2\u001b[0m \u001b[0mget_ipython\u001b[0m\u001b[0;34m(\u001b[0m\u001b[0;34m)\u001b[0m\u001b[0;34m.\u001b[0m\u001b[0msystem\u001b[0m\u001b[0;34m(\u001b[0m\u001b[0;34m'mv malgun.ttf /usr/share/fonts/truetype/'\u001b[0m\u001b[0;34m)\u001b[0m\u001b[0;34m\u001b[0m\u001b[0;34m\u001b[0m\u001b[0m\n\u001b[1;32m      3\u001b[0m \u001b[0;32mimport\u001b[0m \u001b[0mmatplotlib\u001b[0m \u001b[0;32mas\u001b[0m \u001b[0mmpl\u001b[0m\u001b[0;34m\u001b[0m\u001b[0;34m\u001b[0m\u001b[0m\n\u001b[0;32m----> 4\u001b[0;31m \u001b[0mmpl\u001b[0m\u001b[0;34m.\u001b[0m\u001b[0mfont_manager\u001b[0m\u001b[0;34m.\u001b[0m\u001b[0m_rebuild\u001b[0m\u001b[0;34m(\u001b[0m\u001b[0;34m)\u001b[0m\u001b[0;34m\u001b[0m\u001b[0;34m\u001b[0m\u001b[0m\n\u001b[0m",
            "\u001b[0;31mAttributeError\u001b[0m: module 'matplotlib.font_manager' has no attribute '_rebuild'"
          ]
        }
      ]
    },
    {
      "cell_type": "code",
      "source": [
        "import matplotlib.font_manager as fm\n",
        "import os\n",
        "import matplotlib.pyplot as plt\n",
        "\n",
        "# apt-get : 패키지 설치 명령어\n",
        "# -qq : 에러외의 메세지 숨기는 옵션키\n",
        "!apt-get -qq install fonts-nanum\n",
        "\n",
        "\n",
        "fe = fm.FontEntry(\n",
        "    fname=r'/usr/share/fonts/truetype/nanum/NanumGothic.ttf', # ttf 파일이 저장되어 있는 경로\n",
        "    name='NanumGothic')                        # 이 폰트의 원하는 이름 설정\n",
        "fm.fontManager.ttflist.insert(0, fe)              # Matplotlib에 폰트 추가\n",
        "plt.rcParams.update({'font.size': 18, 'font.family': 'NanumGothic'}) # 폰트 설정"
      ],
      "metadata": {
        "id": "M95N9nSNeNKF"
      },
      "id": "M95N9nSNeNKF",
      "execution_count": null,
      "outputs": []
    },
    {
      "cell_type": "markdown",
      "source": [
        "디렉터리 확인"
      ],
      "metadata": {
        "id": "kfkZOOyZmXnx"
      },
      "id": "kfkZOOyZmXnx"
    },
    {
      "cell_type": "code",
      "source": [
        "import os\n",
        "os.getcwd()"
      ],
      "metadata": {
        "id": "y1YA8hQ2mbi5"
      },
      "id": "y1YA8hQ2mbi5",
      "execution_count": null,
      "outputs": []
    },
    {
      "cell_type": "markdown",
      "source": [
        "코드"
      ],
      "metadata": {
        "id": "_N9GiViTfLN7"
      },
      "id": "_N9GiViTfLN7"
    },
    {
      "cell_type": "code",
      "execution_count": null,
      "id": "c49bda59-a50a-4a86-b2f3-82c5455b6233",
      "metadata": {
        "id": "c49bda59-a50a-4a86-b2f3-82c5455b6233"
      },
      "outputs": [],
      "source": [
        "import pandas as pd # 승차/하차 계산 코드\n",
        "from matplotlib import pyplot as plt\n",
        "month_data=\"\"\n",
        "f_name=\"\"\n",
        "def month_import(month):\n",
        "  global df\n",
        "  global month_data\n",
        "  global f_name\n",
        "  if month.lower()=='january':\n",
        "    f_name='data/bus_station_month_january.csv'\n",
        "    month_data='1월'\n",
        "  elif month.lower()=='february':\n",
        "    f_name='data/bus_station_month_february.csv'\n",
        "    month_data='2월'\n",
        "  elif month.lower()=='march':\n",
        "    f_name='data/bus_station_month_march.csv'\n",
        "    month_data='3월'\n",
        "  elif month.lower()=='april':\n",
        "    f_name='data/bus_station_month_april.csv'\n",
        "    month_data='4월'\n",
        "  elif month.lower()=='may':\n",
        "    f_name='data/bus_station_month_may.csv'\n",
        "    month_data='5월'\n",
        "  elif month.lower()=='june':\n",
        "    f_name='data/bus_station_month_june.csv'\n",
        "    month_data='6월'\n",
        "  elif month.lower()=='july':\n",
        "    f_name='data/bus_station_month_july.csv'\n",
        "    month_data='7월'\n",
        "  else:\n",
        "    raise ValueError(\"잘못 입력하셨습니다.\")\n",
        "  df=pd.read_csv(f_name,encoding='cp949')\n",
        "  return df\n",
        "choose_month=input(\"2023년 데이터중 몇 월 데이터를 불러오시겠습니까(영어로 입력해주세요)?\")\n",
        "df=month_import(choose_month)\n",
        "mx=0\n",
        "rate=0\n",
        "busStop_name=None\n",
        "busStop_id=None\n",
        "busline_info=None\n",
        "riding=None\n",
        "getoff=None\n",
        "bus_name2=None\n",
        "if df.empty: #df에 값이 있는지 확인함(디버그).\n",
        "  raise ValueError(\"df is empty\")\n",
        "for index,row in df.iterrows():\n",
        "  for i in range(6,8):\n",
        "    row[i]=int(row[i])\n",
        "  if row[7]!=0:\n",
        "    rate=row[6]/row[7]\n",
        "    if rate>mx:\n",
        "      mx=rate\n",
        "      busStop_name=row[5]\n",
        "      busline_info=row[3]\n",
        "      busStop_id=row[4]\n",
        "      riding=row[6]\n",
        "      getoff=row[7]\n",
        "      bus_name2=row[2]\n",
        "print(mx,busline_info,busStop_id)\n",
        "print(\"정류장의 승차승객수: \",riding)\n",
        "print(\"정류장의 하차승객수: \",getoff)\n",
        "print(mx)\n",
        "df2=df[df[\"노선명\"]==busline_info]\n",
        "for index, row in df2.iterrows():\n",
        "  if busStop_id == row[4]:\n",
        "    plt.figure(dpi=300)\n",
        "    plt.rc('font', family='Malgun Gothic')\n",
        "    plt.title(\"%s, %s번 버스, 정류장 : %s\"%(month_data,bus_name2,row[5]))\n",
        "    values=row[6:8]\n",
        "    labels=['승차승객수','하차승객수']\n",
        "    data_labels=[f\"{label}: {value}\" for label,value in zip(labels,values)]\n",
        "    plt.pie(values, labels=data_labels, autopct='%.1f%%')\n",
        "    plt.axis('equal')\n",
        "    plt.show()"
      ]
    },
    {
      "cell_type": "code",
      "source": [
        "!sudo apt-get install -y fonts-nanum\n",
        "!sudo fc-cache -fv\n",
        "!rm ~/.cache/matplotlib -rf"
      ],
      "metadata": {
        "id": "hRN-0Q33mQd3"
      },
      "id": "hRN-0Q33mQd3",
      "execution_count": null,
      "outputs": []
    },
    {
      "cell_type": "code",
      "source": [
        "plt.rc('font', family='NanumBarunGothic')"
      ],
      "metadata": {
        "id": "5pdNnUT5mCSX"
      },
      "id": "5pdNnUT5mCSX",
      "execution_count": null,
      "outputs": []
    },
    {
      "cell_type": "code",
      "source": [
        "import pandas as pd # 승차/하차 계산 코드 (버스 노선 입력)\n",
        "from matplotlib import pyplot as plt\n",
        "month_data=\"\"\n",
        "f_name=\"\"\n",
        "def month_import(month):\n",
        "  global df\n",
        "  global month_data\n",
        "  global f_name\n",
        "  if month.lower()=='january':\n",
        "    f_name='data/bus_station_month_january.csv'\n",
        "    month_data='1월'\n",
        "  elif month.lower()=='february':\n",
        "    f_name='data/bus_station_month_february.csv'\n",
        "    month_data='2월'\n",
        "  elif month.lower()=='march':\n",
        "    f_name='data/bus_station_month_march.csv'\n",
        "    month_data='3월'\n",
        "  elif month.lower()=='april':\n",
        "    f_name='data/bus_station_month_april.csv'\n",
        "    month_data='4월'\n",
        "  elif month.lower()=='may':\n",
        "    f_name='data/bus_station_month_may.csv'\n",
        "    month_data='5월'\n",
        "  elif month.lower()=='june':\n",
        "    f_name='data/bus_station_month_june.csv'\n",
        "    month_data='6월'\n",
        "  elif month.lower()=='july':\n",
        "    f_name='data/bus_station_month_july.csv'\n",
        "    month_data='7월'\n",
        "  else:\n",
        "    raise ValueError(\"잘못 입력하셨습니다.\")\n",
        "  df=pd.read_csv(f_name,encoding='cp949')\n",
        "  return df\n",
        "choose_month=input(\"2023년 데이터중 몇 월 데이터를 불러오시겠습니까(영어로 입력해주세요)?\")\n",
        "df=month_import(choose_month)\n",
        "bus_name=input('버스 노선을 입력해주세요(csv파일의 노선 번호열을 참고하여 입력해주세요).')\n",
        "df2=df[df['노선번호']==bus_name]\n",
        "if df2.empty:\n",
        "  raise ValueError(\"입력한 버스 노선 데이터가 %s 파일에 존재하지 않습니다.\"%(f_name))\n",
        "mx=0\n",
        "rate=0\n",
        "print(df2)\n",
        "busStop_name=None\n",
        "busStop_id=None\n",
        "busline_info=None\n",
        "riding=None\n",
        "getoff=None\n",
        "if df.empty:\n",
        "  raise ValueError(\"데이터 및 파일이 존재하지 않습니다.\")\n",
        "for index,row in df2.iterrows():\n",
        "  for i in range(6,8):\n",
        "    row[i]=int(row[i])\n",
        "  if row[7]!=0:\n",
        "    rate=row[6]/row[7]\n",
        "    if rate>mx:\n",
        "      mx=rate\n",
        "      busStop_name=row[5]\n",
        "      busline_info=row[3]\n",
        "      busStop_id=row[4]\n",
        "      riding=row[6]\n",
        "      getoff=row[7]\n",
        "print(mx,busline_info,busStop_id)\n",
        "print(\"정류장의 승차승객수: \",riding)\n",
        "print(\"정류장의 하차승객수: \",getoff)\n",
        "print(mx)\n",
        "df3=df2[df2[\"버스정류장ID\"]==busStop_id]\n",
        "print(df3)\n",
        "for index, row in df3.iterrows():\n",
        "  if bus_name in row['노선번호']:\n",
        "    plt.figure(dpi=300)\n",
        "    plt.title(\"%s, %s번 버스, 정류장 : %s\"%(month_data,bus_name,row[5]))\n",
        "    values=row[6:8]\n",
        "    labels=['승차승객수','하차승객수']\n",
        "    data_labels=[f\"{label}: {value}\" for label,value in zip(labels,values)]\n",
        "    plt.pie(values, labels=data_labels, autopct='%.1f%%')\n",
        "    plt.axis('equal')\n",
        "    plt.show()"
      ],
      "metadata": {
        "id": "uSG3xMW6kJtf"
      },
      "id": "uSG3xMW6kJtf",
      "execution_count": null,
      "outputs": []
    },
    {
      "cell_type": "code",
      "execution_count": null,
      "id": "68c87116-6338-4fae-acc3-dc69f58e83a8",
      "metadata": {
        "editable": true,
        "scrolled": true,
        "tags": [],
        "id": "68c87116-6338-4fae-acc3-dc69f58e83a8"
      },
      "outputs": [],
      "source": [
        "import pandas as pd #그래프\n",
        "import matplotlib.pyplot as plt\n",
        "month_data=\"\"\n",
        "f_name=\"\"\n",
        "def month_import(month):\n",
        "  global df\n",
        "  global month_data\n",
        "  global f_name\n",
        "  if month.lower()=='january':\n",
        "    f_name='data/bus_station_month_january.csv'\n",
        "    month_data=\"1월\"\n",
        "  elif month.lower()=='february':\n",
        "    f_name='data/bus_station_month_february.csv'\n",
        "    month_data=\"2월\"\n",
        "  elif month.lower()=='march':\n",
        "    f_name='data/bus_station_month_march.csv'\n",
        "    month_data=\"3월\"\n",
        "  elif month.lower()=='april':\n",
        "    f_name='data/bus_station_month_april.csv'\n",
        "    month_data=\"4월\"\n",
        "  elif month.lower()=='may':\n",
        "    f_name='data/bus_station_month_may.csv'\n",
        "    month_data=\"5월\"\n",
        "  elif month.lower()=='june':\n",
        "    f_name='data/bus_station_month_june.csv'\n",
        "    month_data=\"6월\"\n",
        "  elif month.lower()=='july':\n",
        "    f_name='data/bus_station_month_july.csv'\n",
        "    month_data=\"7월\"\n",
        "  else:\n",
        "    raise ValueError('잘못 입력하셨습니다.')\n",
        "  df=pd.read_csv(f_name,encoding='cp949')\n",
        "  return df\n",
        "choose_month=input(\"2023년 데이터중 몇 월 데이터를 불러오시겠습니까(영어로 입력하세요)?\")\n",
        "df=month_import(choose_month)\n",
        "bus_name=input('버스 노선을 입력해주세요(csv파일의 노선 번호열을 참고하여 입력해주세요).')\n",
        "df2=df[df['노선번호']==bus_name]\n",
        "bus_name_in_data=False\n",
        "if df2.empty:\n",
        "  raise ValueError(\"입력한 버스 노선 데이터가 %s 파일에 존재하지 않습니다.\"%(f_name))\n",
        "for index, row in df2.iterrows():\n",
        "  if bus_name in row['노선번호']:\n",
        "    plt.figure(dpi=300)\n",
        "    plt.rc('font',family='Malgun Gothic')\n",
        "    plt.title(\"%s, %s번 버스, 정류장 : %s\"%(month_data,bus_name,row[5]))\n",
        "    values=row[6:8]\n",
        "    labels=['승차승객수','하차승객수']\n",
        "    data_labels=[f\"{label}: {value}\" for label,value in zip(labels,values)]\n",
        "    plt.pie(values, labels=data_labels, autopct='%.1f%%')\n",
        "    plt.axis('equal')\n",
        "    plt.show()"
      ]
    },
    {
      "cell_type": "code",
      "execution_count": null,
      "id": "39f0a0e1-2df0-4b4f-9e5d-bd15cf2a872d",
      "metadata": {
        "id": "39f0a0e1-2df0-4b4f-9e5d-bd15cf2a872d"
      },
      "outputs": [],
      "source": [
        "import pandas as pd #서브플롯(작동안함).\n",
        "import matplotlib.pyplot as plt\n",
        "month_data=\"\"\n",
        "f_name=\"\"\n",
        "def month_import(month):\n",
        "  global df\n",
        "  global month_data\n",
        "  global f_name\n",
        "  if month.lower()=='january':\n",
        "    f_name='data/bus_station_month_january.csv'\n",
        "    month_data='1월'\n",
        "  elif month.lower()=='february':\n",
        "    f_name='data/bus_station_month_february.csv'\n",
        "    month_data='2월'\n",
        "  elif month.lower()=='march':\n",
        "    f_name='data/bus_station_month_march.csv'\n",
        "    month_data='3월'\n",
        "  elif month.lower()=='april':\n",
        "    f_name='data/bus_station_month_april.csv'\n",
        "    month_data='4월'\n",
        "  elif month.lower()=='may':\n",
        "    f_name='data/bus_station_month_may.csv'\n",
        "    month_data='5월'\n",
        "  elif month.lower()=='june':\n",
        "    f_name='data/bus_station_month_june.csv'\n",
        "    month_data='6월'\n",
        "  elif month.lower()=='july':\n",
        "    f_name='data/bus_station_month_july.csv'\n",
        "    month_data='7월'\n",
        "  else:\n",
        "    raise ValueError(\"잘못 입력하셨습니다.\")\n",
        "  df=pd.read_csv(f_name,encoding='cp949')\n",
        "  return df\n",
        "def plot_pie_chart(df2,bus_name,month_data):\n",
        "  plt.figure(dpi=300)\n",
        "  plt.rc('font',family='Malgun Gothic')\n",
        "  plt.title(\"%s, %s번 버스, 정류장 : %s\" % (month_data, bus_name, df2.iloc[0, 5]))\n",
        "  plt.pie(values,labels=data_labels,autopct='%.1f%%')\n",
        "  plt.axis('equal')\n",
        "choose_month=input(\"2023년 데이터중 몇 월 데이터를 불러오시겠습니까(영어로 입력해주셍요)?\")\n",
        "df=month_import(choose_month)\n",
        "bus_name=input('버스 노선을 입력해주세요(csv파일의 노선 번호명을 참고하여 입력해주세요).')\n",
        "df2=df[df['노선번호']==bus_name]\n",
        "if df2.empty:\n",
        "  raise ValueError('입력한 버스 노선 데이터가 %s 파일에 존재하지 않습니다.'%(f_name))\n",
        "plt.figure(figsize=(12,8))\n",
        "num_subplots=len(df2)\n",
        "for i in range(num_subplots):\n",
        "  plt.subplot(1,num_subplots,i+1)\n",
        "  values=df2.iloc[i,6:8]\n",
        "  labels=['승차승객수','하차승객수']\n",
        "  data_labels=[f\"{label}:{value}\" for label,value in zip(labels,values)]\n",
        "  plot_pie_chart(df2.iloc[[i]], bus_name, month_data)\n",
        "  plt.close()\n",
        "plt.tight_layout()\n",
        "plt.show()"
      ]
    }
  ],
  "metadata": {
    "kernelspec": {
      "display_name": "Python 3",
      "name": "python3"
    },
    "language_info": {
      "codemirror_mode": {
        "name": "ipython",
        "version": 3
      },
      "file_extension": ".py",
      "mimetype": "text/x-python",
      "name": "python",
      "nbconvert_exporter": "python",
      "pygments_lexer": "ipython3",
      "version": "3.11.4"
    },
    "colab": {
      "provenance": [],
      "gpuType": "T4"
    }
  },
  "nbformat": 4,
  "nbformat_minor": 5
}