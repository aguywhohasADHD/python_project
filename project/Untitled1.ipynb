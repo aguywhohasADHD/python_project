{
  "cells": [
    {
      "cell_type": "markdown",
      "source": [
        "파이선 및 모듈 버전 확인"
      ],
      "metadata": {
        "id": "CCHnYENReGRz"
      },
      "id": "CCHnYENReGRz"
    },
    {
      "cell_type": "code",
      "execution_count": 4,
      "id": "1b37bb21-0c78-44c2-bec9-9ee8f80b1a6e",
      "metadata": {
        "id": "1b37bb21-0c78-44c2-bec9-9ee8f80b1a6e",
        "colab": {
          "base_uri": "https://localhost:8080/"
        },
        "outputId": "8843ff5e-bf92-4ebf-94cf-b4d5b497164c"
      },
      "outputs": [
        {
          "output_type": "stream",
          "name": "stdout",
          "text": [
            "1.5.3\n"
          ]
        }
      ],
      "source": [
        "import pandas\n",
        "print(pandas.__version__)"
      ]
    },
    {
      "cell_type": "code",
      "source": [
        "import numpy\n",
        "print(\"numpy version:\",numpy.__version__)"
      ],
      "metadata": {
        "id": "Ep3DOcMFeaSD",
        "colab": {
          "base_uri": "https://localhost:8080/"
        },
        "outputId": "f97a80dc-0aa1-4652-e08d-238d484a009b"
      },
      "id": "Ep3DOcMFeaSD",
      "execution_count": 5,
      "outputs": [
        {
          "output_type": "stream",
          "name": "stdout",
          "text": [
            "numpy version: 1.23.5\n"
          ]
        }
      ]
    },
    {
      "cell_type": "code",
      "source": [
        "import sys\n",
        "print(\"Python version\")\n",
        "print(sys.version)\n",
        "print(\"Version info.\")\n",
        "print(sys.version_info)"
      ],
      "metadata": {
        "id": "I7gU2DvLdrjz",
        "colab": {
          "base_uri": "https://localhost:8080/"
        },
        "outputId": "63058472-bfce-466f-ed93-d927b56785a6"
      },
      "id": "I7gU2DvLdrjz",
      "execution_count": 6,
      "outputs": [
        {
          "output_type": "stream",
          "name": "stdout",
          "text": [
            "Python version\n",
            "3.10.12 (main, Jun 11 2023, 05:26:28) [GCC 11.4.0]\n",
            "Version info.\n",
            "sys.version_info(major=3, minor=10, micro=12, releaselevel='final', serial=0)\n"
          ]
        }
      ]
    },
    {
      "cell_type": "code",
      "source": [
        "import matplotlib\n",
        "print(\"matplotlib version:\",matplotlib.__version__)"
      ],
      "metadata": {
        "id": "IotaImtAd-sz",
        "colab": {
          "base_uri": "https://localhost:8080/"
        },
        "outputId": "0f6cb6d5-c61b-4cb3-f306-11e0c6542282"
      },
      "id": "IotaImtAd-sz",
      "execution_count": 8,
      "outputs": [
        {
          "output_type": "stream",
          "name": "stdout",
          "text": [
            "matplotlib version: 3.7.1\n"
          ]
        }
      ]
    },
    {
      "cell_type": "code",
      "source": [
        "pip list --outdated"
      ],
      "metadata": {
        "id": "KqDlhL4abq1y"
      },
      "id": "KqDlhL4abq1y",
      "execution_count": null,
      "outputs": []
    },
    {
      "cell_type": "markdown",
      "source": [
        "디렉터리 확인"
      ],
      "metadata": {
        "id": "kfkZOOyZmXnx"
      },
      "id": "kfkZOOyZmXnx"
    },
    {
      "cell_type": "code",
      "source": [
        "import os\n",
        "os.getcwd()"
      ],
      "metadata": {
        "colab": {
          "base_uri": "https://localhost:8080/",
          "height": 35
        },
        "id": "y1YA8hQ2mbi5",
        "outputId": "0ed33dfc-c5de-424e-901b-f278a64a6d8b"
      },
      "id": "y1YA8hQ2mbi5",
      "execution_count": 1,
      "outputs": [
        {
          "output_type": "execute_result",
          "data": {
            "text/plain": [
              "'/content'"
            ],
            "application/vnd.google.colaboratory.intrinsic+json": {
              "type": "string"
            }
          },
          "metadata": {},
          "execution_count": 1
        }
      ]
    },
    {
      "cell_type": "markdown",
      "source": [
        "코드"
      ],
      "metadata": {
        "id": "_N9GiViTfLN7"
      },
      "id": "_N9GiViTfLN7"
    },
    {
      "cell_type": "code",
      "execution_count": 23,
      "id": "c49bda59-a50a-4a86-b2f3-82c5455b6233",
      "metadata": {
        "colab": {
          "base_uri": "https://localhost:8080/"
        },
        "id": "c49bda59-a50a-4a86-b2f3-82c5455b6233",
        "outputId": "ccddf3cc-1ff9-4202-b257-aef4c59df2c6"
      },
      "outputs": [
        {
          "output_type": "stream",
          "name": "stdout",
          "text": [
            "2023년 데이터중 몇 월 데이터를 불러오시겠습니까(영어로 입력해주세요)?june\n",
            "1194.0 강북02(본원정사~수유역) 모아빌라\n",
            "1194.0\n"
          ]
        }
      ],
      "source": [
        "import pandas as pd # 승차/하차 계산 코드\n",
        "from matplotlib import pyplot as plt\n",
        "month_data=\"\"\n",
        "f_name=\"\"\n",
        "def month_import(month):\n",
        "    global df\n",
        "    global month_data\n",
        "    global f_name\n",
        "    if month.lower()=='january':\n",
        "        f_name='data/bus_station_month_january.csv'\n",
        "        month_data='1월'\n",
        "    elif month.lower()=='february':\n",
        "        f_name='data/bus_station_month_february.csv'\n",
        "        month_data='2월'\n",
        "    elif month.lower()=='march':\n",
        "        f_name='data/bus_station_month_march.csv'\n",
        "        month_data='3월'\n",
        "    elif month.lower()=='april':\n",
        "        f_name='data/bus_station_month_april.csv'\n",
        "        month_data='4월'\n",
        "    elif month.lower()=='may':\n",
        "        f_name='data/bus_station_month_may.csv'\n",
        "        month_data='5월'\n",
        "    elif month.lower()=='june':\n",
        "        f_name='data/bus_station_month_june.csv'\n",
        "        month_data='6월'\n",
        "    elif month.lower()=='july':\n",
        "        f_name='data/bus_station_month_july.csv'\n",
        "        month_data='7월'\n",
        "    else:\n",
        "        raise ValueError(\"잘못 입력하셨습니다.\")\n",
        "    df=pd.read_csv(f_name,encoding='cp949')\n",
        "    return df\n",
        "choose_month=input(\"2023년 데이터중 몇 월 데이터를 불러오시겠습니까(영어로 입력해주세요)?\")\n",
        "df=month_import(choose_month)\n",
        "mx=0\n",
        "rate=0\n",
        "df\n",
        "temp=None\n",
        "busTemp=None\n",
        "if df.empty:\n",
        "  raise ValueError(\"데이터 및 파일이 존재하지 않습니다.\")\n",
        "for index,row in df.iterrows():\n",
        "  for i in range(6,8):\n",
        "    row[i]=int(row[i])\n",
        "  if row[7]!=0:\n",
        "    rate=row[6]/row[7]\n",
        "    if rate>mx:\n",
        "      mx=rate\n",
        "      temp=row[5]\n",
        "      busTemp=row[3]\n",
        "print(mx,busTemp,temp)\n",
        "print(mx)"
      ]
    },
    {
      "cell_type": "code",
      "source": [
        "import pandas as pd # 승차/하차 계산 코드 (버스 노선 입력)\n",
        "from matplotlib import pyplot as plt\n",
        "month_data=\"\"\n",
        "f_name=\"\"\n",
        "def month_import(month):\n",
        "    global df\n",
        "    global month_data\n",
        "    global f_name\n",
        "    if month.lower()=='january':\n",
        "        f_name='data/bus_station_month_january.csv'\n",
        "        month_data='1월'\n",
        "    elif month.lower()=='february':\n",
        "        f_name='data/bus_station_month_february.csv'\n",
        "        month_data='2월'\n",
        "    elif month.lower()=='march':\n",
        "        f_name='data/bus_station_month_march.csv'\n",
        "        month_data='3월'\n",
        "    elif month.lower()=='april':\n",
        "        f_name='data/bus_station_month_april.csv'\n",
        "        month_data='4월'\n",
        "    elif month.lower()=='may':\n",
        "        f_name='data/bus_station_month_may.csv'\n",
        "        month_data='5월'\n",
        "    elif month.lower()=='june':\n",
        "        f_name='data/bus_station_month_june.csv'\n",
        "        month_data='6월'\n",
        "    elif month.lower()=='july':\n",
        "        f_name='data/bus_station_month_july.csv'\n",
        "        month_data='7월'\n",
        "    else:\n",
        "        raise ValueError(\"잘못 입력하셨습니다.\")\n",
        "    df=pd.read_csv(f_name,encoding='cp949')\n",
        "    return df\n",
        "choose_month=input(\"2023년 데이터중 몇 월 데이터를 불러오시겠습니까(영어로 입력해주세요)?\")\n",
        "df=month_import(choose_month)\n",
        "bus_name=input('버스 노선을 입력해주세요(csv파일의 노선 번호열을 참고하여 입력해주세요).')\n",
        "df2=df[df['노선번호']==bus_name]\n",
        "if df2.empty:\n",
        "    raise ValueError(\"입력한 버스 노선 데이터가 %s 파일에 존재하지 않습니다.\"%(f_name))\n",
        "mx=0\n",
        "rate=0\n",
        "df\n",
        "df2\n",
        "temp=None\n",
        "busTemp=None\n",
        "if df.empty:\n",
        "  raise ValueError(\"데이터 및 파일이 존재하지 않습니다.\")\n",
        "for index,row in df2.iterrows():\n",
        "  for i in range(6,8):\n",
        "    row[i]=int(row[i])\n",
        "  if row[7]!=0:\n",
        "    rate=row[6]/row[7]\n",
        "    if rate>mx:\n",
        "      mx=rate\n",
        "      temp=row[5]\n",
        "      busTemp=row[3]\n",
        "print(mx,busTemp,temp)\n",
        "print(mx)"
      ],
      "metadata": {
        "colab": {
          "base_uri": "https://localhost:8080/"
        },
        "id": "uSG3xMW6kJtf",
        "outputId": "76b89f08-7763-4ac3-bbff-36446621b43a"
      },
      "id": "uSG3xMW6kJtf",
      "execution_count": 33,
      "outputs": [
        {
          "output_type": "stream",
          "name": "stdout",
          "text": [
            "2023년 데이터중 몇 월 데이터를 불러오시겠습니까(영어로 입력해주세요)?july\n",
            "버스 노선을 입력해주세요(csv파일의 노선 번호열을 참고하여 입력해주세요).서초20\n",
            "1132.0 서초20(서초더샵포레아파트~양재역) 서초더샵포레\n",
            "1132.0\n"
          ]
        }
      ]
    },
    {
      "cell_type": "code",
      "execution_count": null,
      "id": "68c87116-6338-4fae-acc3-dc69f58e83a8",
      "metadata": {
        "editable": true,
        "scrolled": true,
        "tags": [],
        "id": "68c87116-6338-4fae-acc3-dc69f58e83a8"
      },
      "outputs": [],
      "source": [
        "import pandas as pd\n",
        "import matplotlib.pyplot as plt\n",
        "month_data=\"\"\n",
        "f_name=\"\"\n",
        "def month_import(month):\n",
        "    global df\n",
        "    global month_data\n",
        "    global f_name\n",
        "    if month.lower()=='january':\n",
        "        f_name='data/bus_station_month_january.csv'\n",
        "        month_data=\"1월\"\n",
        "    elif month.lower()=='february':\n",
        "        f_name='data/bus_station_month_february.csv'\n",
        "        month_data=\"2월\"\n",
        "    elif month.lower()=='march':\n",
        "        f_name='data/bus_station_month_march.csv'\n",
        "        month_data=\"3월\"\n",
        "    elif month.lower()=='april':\n",
        "        f_name='data/bus_station_month_april.csv'\n",
        "        month_data=\"4월\"\n",
        "    elif month.lower()=='may':\n",
        "        f_name='data/bus_station_month_may.csv'\n",
        "        month_data=\"5월\"\n",
        "    elif month.lower()=='june':\n",
        "        f_name='data/bus_station_month_june.csv'\n",
        "        month_data=\"6월\"\n",
        "    elif month.lower()=='july':\n",
        "        f_name='data/bus_station_month_july.csv'\n",
        "        month_data=\"7월\"\n",
        "    else:\n",
        "        raise ValueError('잘못 입력하셨습니다.')\n",
        "    df=pd.read_csv(f_name,encoding='cp949')\n",
        "    return df\n",
        "choose_month=input(\"2023년 데이터중 몇 월 데이터를 불러오시겠습니까(영어로 입력하세요)?\")\n",
        "df=month_import(choose_month)\n",
        "bus_name=input('버스 노선을 입력해주세요(csv파일의 노선 번호열을 참고하여 입력해주세요).')\n",
        "df2=df[df['노선번호']==bus_name]\n",
        "bus_name_in_data=False\n",
        "if df2.empty:\n",
        "    raise ValueError(\"입력한 버스 노선 데이터가 %s 파일에 존재하지 않습니다.\"%(f_name))\n",
        "for index, row in df2.iterrows():\n",
        "    if bus_name in row['노선번호']:\n",
        "        plt.figure(dpi=300)\n",
        "        plt.rc('font',family='Malgun Gothic')\n",
        "        plt.title(\"%s, %s번 버스, 정류장 : %s\"%(month_data,bus_name,row[5]))\n",
        "        values=row[6:8]\n",
        "        labels=['승차승객수','하차승객수']\n",
        "        data_labels=[f\"{label}: {value}\" for label,value in zip(labels,values)]\n",
        "        plt.pie(values, labels=data_labels, autopct='%.1f%%')\n",
        "        plt.axis('equal')\n",
        "        plt.show()"
      ]
    },
    {
      "cell_type": "code",
      "execution_count": null,
      "id": "39f0a0e1-2df0-4b4f-9e5d-bd15cf2a872d",
      "metadata": {
        "id": "39f0a0e1-2df0-4b4f-9e5d-bd15cf2a872d"
      },
      "outputs": [],
      "source": [
        "import pandas as pd\n",
        "import matplotlib.pyplot as plt\n",
        "month_data=\"\"\n",
        "f_name=\"\"\n",
        "def month_import(month):\n",
        "    global df\n",
        "    global month_data\n",
        "    global f_name\n",
        "    if month.lower()=='january':\n",
        "        f_name='data/bus_station_month_january.csv'\n",
        "        month_data='1월'\n",
        "    elif month.lower()=='february':\n",
        "        f_name='data/bus_station_month_february.csv'\n",
        "        month_data='2월'\n",
        "    elif month.lower()=='march':\n",
        "        f_name='data/bus_station_month_march.csv'\n",
        "        month_data='3월'\n",
        "    elif month.lower()=='april':\n",
        "        f_name='data/bus_station_month_april.csv'\n",
        "        month_data='4월'\n",
        "    elif month.lower()=='may':\n",
        "        f_name='data/bus_station_month_may.csv'\n",
        "        month_data='5월'\n",
        "    elif month.lower()=='june':\n",
        "        f_name='data/bus_station_month_june.csv'\n",
        "        month_data='6월'\n",
        "    elif month.lower()=='july':\n",
        "        f_name='data/bus_station_month_july.csv'\n",
        "        month_data='7월'\n",
        "    else:\n",
        "        raise ValueError(\"잘못 입력하셨습니다.\")\n",
        "    df=pd.read_csv(f_name,encoding='cp949')\n",
        "    return df\n",
        "def plot_pie_chart(df2,bus_name,month_data):\n",
        "    plt.figure(dpi=300)\n",
        "    plt.rc('font',family='Malgun Gothic')\n",
        "    plt.title(\"%s, %s번 버스, 정류장 : %s\" % (month_data, bus_name, df2.iloc[0, 5]))\n",
        "    plt.pie(values,labels=data_labels,autopct='%.1f%%')\n",
        "    plt.axis('equal')\n",
        "choose_month=input(\"2023년 데이터중 몇 월 데이터를 불러오시겠습니까(영어로 입력해주셍요)?\")\n",
        "df=month_import(choose_month)\n",
        "bus_name=input('버스 노선을 입력해주세요(csv파일의 노선 번호명을 참고하여 입력해주세요).')\n",
        "df2=df[df['노선번호']==bus_name]\n",
        "if df2.empty:\n",
        "    raise ValueError('입력한 버스 노선 데이터가 %s 파일에 존재하지 않습니다.'%(f_name))\n",
        "plt.figure(figsize=(12,8))\n",
        "num_subplots=len(df2)\n",
        "for i in range(num_subplots):\n",
        "    plt.subplot(1,num_subplots,i+1)\n",
        "    values=df2.iloc[i,6:8]\n",
        "    labels=['승차승객수','하차승객수']\n",
        "    data_labels=[f\"{label}:{value}\" for label,value in zip(labels,values)]\n",
        "    plot_pie_chart(df2.iloc[[i]], bus_name, month_data)\n",
        "    plt.close()\n",
        "plt.tight_layout()\n",
        "plt.show()"
      ]
    },
    {
      "cell_type": "code",
      "execution_count": null,
      "id": "15fdb79f-5a31-4849-801e-9983ca9e18a2",
      "metadata": {
        "id": "15fdb79f-5a31-4849-801e-9983ca9e18a2"
      },
      "outputs": [],
      "source": [
        "import matplotlib.pyplot as plt\n",
        "import numpy as np\n",
        "fig,axes=plt.subplots(2,2)\n",
        "x=[i for i in range(20)]\n",
        "y=[np.random.randint(1,10) for i in range(20)]\n",
        "axes[0][0].title(\"test\")\n",
        "axes[0][0].plot(x,y)\n",
        "x=range(20)\n",
        "y=[np.random.randint(1,10) for i in range(20)]\n",
        "axes[0][1].bar(x,y)\n",
        "x=range(20)\n",
        "y=[np.random.randint(1,10) for i in range(20)]\n",
        "axes[1][0].bar(x,y)\n",
        "x=range(20)\n",
        "y=[np.random.randint(1,10) for i in range(20)]\n",
        "axes[1][1].scatter(x,y)\n",
        "plt.tight_layout()\n",
        "plt.show()"
      ]
    }
  ],
  "metadata": {
    "kernelspec": {
      "display_name": "Python 3",
      "name": "python3"
    },
    "language_info": {
      "codemirror_mode": {
        "name": "ipython",
        "version": 3
      },
      "file_extension": ".py",
      "mimetype": "text/x-python",
      "name": "python",
      "nbconvert_exporter": "python",
      "pygments_lexer": "ipython3",
      "version": "3.11.4"
    },
    "colab": {
      "provenance": [],
      "gpuType": "T4"
    }
  },
  "nbformat": 4,
  "nbformat_minor": 5
}