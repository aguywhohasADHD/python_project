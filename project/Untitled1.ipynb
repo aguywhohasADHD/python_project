{
  "cells": [
    {
      "cell_type": "markdown",
      "source": [
        "##디렉터리 확인"
      ],
      "metadata": {
        "id": "kfkZOOyZmXnx"
      },
      "id": "kfkZOOyZmXnx"
    },
    {
      "cell_type": "code",
      "source": [
        "import os\n",
        "os.getcwd()"
      ],
      "metadata": {
        "id": "y1YA8hQ2mbi5"
      },
      "id": "y1YA8hQ2mbi5",
      "execution_count": null,
      "outputs": []
    },
    {
      "cell_type": "markdown",
      "source": [
        "##코드"
      ],
      "metadata": {
        "id": "_N9GiViTfLN7"
      },
      "id": "_N9GiViTfLN7"
    },
    {
      "cell_type": "markdown",
      "source": [
        "##필요한 모듈 불러오기"
      ],
      "metadata": {
        "id": "iftGPmx-2B1F"
      },
      "id": "iftGPmx-2B1F"
    },
    {
      "cell_type": "code",
      "source": [
        "import pandas as pd\n",
        "import matplotlib.pyplot as plt"
      ],
      "metadata": {
        "id": "iS_VRfKa2A5N"
      },
      "id": "iS_VRfKa2A5N",
      "execution_count": 2,
      "outputs": []
    },
    {
      "cell_type": "markdown",
      "source": [
        "##데이터프레임 함수\n",
        "\n",
        "N월을 입력으로 받아 해당 월의 데이터를 return 해주는 함수"
      ],
      "metadata": {
        "id": "0FGyPBMK2stv"
      },
      "id": "0FGyPBMK2stv"
    },
    {
      "cell_type": "code",
      "source": [
        "month_data=None#파이 차트에 사용될 함수\n",
        "f_name=None#파일을 불러올 때 쓰이는 함수\n",
        "def month_import(month):\n",
        "  global df\n",
        "  global month_data\n",
        "  global f_name\n",
        "  if month.lower()=='january':\n",
        "    f_name='data/bus_station_month_january.csv'\n",
        "    month_data='1월'\n",
        "  elif month.lower()=='february':\n",
        "    f_name='data/bus_station_month_february.csv'\n",
        "    month_data='2월'\n",
        "  elif month.lower()=='march':\n",
        "    f_name='data/bus_station_month_march.csv'\n",
        "    month_data='3월'\n",
        "  elif month.lower()=='april':\n",
        "    f_name='data/bus_station_month_april.csv'\n",
        "    month_data='4월'\n",
        "  elif month.lower()=='may':\n",
        "    f_name='data/bus_station_month_may.csv'\n",
        "    month_data='5월'\n",
        "  elif month.lower()=='june':\n",
        "    f_name='data/bus_station_month_june.csv'\n",
        "    month_data='6월'\n",
        "  elif month.lower()=='july':\n",
        "    f_name='data/bus_station_month_july.csv'\n",
        "    month_data='7월'\n",
        "  else:\n",
        "    raise ValueError(\"잘못 입력하셨습니다.\")\n",
        "  df=pd.read_csv(f_name,encoding='cp949')\n",
        "  return df"
      ],
      "metadata": {
        "id": "oTP24tXs1_ms"
      },
      "id": "oTP24tXs1_ms",
      "execution_count": 3,
      "outputs": []
    },
    {
      "cell_type": "markdown",
      "source": [
        "##분석하고자 하는 데이터의 세팅"
      ],
      "metadata": {
        "id": "Ut2oLhJa4C-G"
      },
      "id": "Ut2oLhJa4C-G"
    },
    {
      "cell_type": "code",
      "source": [
        "choose_month='march'##각 월 데이터\n",
        "bus_name='4432'#버스노선번호\n",
        "df=month_import(choose_month)"
      ],
      "metadata": {
        "id": "kwsxJARi39rO"
      },
      "id": "kwsxJARi39rO",
      "execution_count": 17,
      "outputs": []
    },
    {
      "cell_type": "markdown",
      "source": [
        "##각 월 데이터에서 모든 정류장중에서 승차/하차 승객의 비율이 가장 큰 정류장에 대한 파이차트 표시"
      ],
      "metadata": {
        "id": "tWZJvkLi57k-"
      },
      "id": "tWZJvkLi57k-"
    },
    {
      "cell_type": "code",
      "execution_count": null,
      "id": "c49bda59-a50a-4a86-b2f3-82c5455b6233",
      "metadata": {
        "id": "c49bda59-a50a-4a86-b2f3-82c5455b6233"
      },
      "outputs": [],
      "source": [
        "mx=0\n",
        "rate=0\n",
        "busStop_name=None#버스정류장이름\n",
        "busStop_id=None#버스정류장ID\n",
        "busline_info=None#버스노선정보\n",
        "riding=None#승차승객수\n",
        "getoff=None#하차승객수\n",
        "bus_name=None#버스노선\n",
        "if df.empty:#df에 값이 있는지 확인함(디버그).\n",
        "  raise ValueError(\"데이터가 없습니다.\")\n",
        "for index,row in df.iterrows():\n",
        "  for i in range(6,8):\n",
        "    row[i]=int(row[i])\n",
        "  if row[7]!=0:#0인 경우 계산하지 않음.\n",
        "    rate=row[6]/row[7]\n",
        "    if rate>mx:#만약 rate가 mx보다 클 경우 함수 값 다시 지정\n",
        "      mx=rate\n",
        "      busStop_name=row[5]\n",
        "      busline_info=row[3]\n",
        "      busStop_id=row[4]\n",
        "      riding=row[6]\n",
        "      getoff=row[7]\n",
        "      bus_name=row[2]\n",
        "print(mx,busline_info,busStop_id)\n",
        "print(\"정류장의 승차승객수: \",riding)\n",
        "print(\"정류장의 하차승객수: \",getoff)\n",
        "df2=df[df[\"노선명\"]==busline_info]\n",
        "for index, row in df2.iterrows():#승차/하차 승객 비율이 가장 큰 정류장에 대한 파이차트\n",
        "  if busStop_id == row[4]:\n",
        "    plt.figure(dpi=100)\n",
        "    plt.rc('font', family='Malgun Gothic')\n",
        "    plt.title(\"%s, %s번 버스, 정류장 : %s\"%(month_data,bus_name,row[5]))\n",
        "    values=row[6:8]\n",
        "    labels=['승차승객수','하차승객수']\n",
        "    data_labels=[f\"{label}: {value}\" for label,value in zip(labels,values)]\n",
        "    plt.pie(values, labels=data_labels, autopct='%.1f%%')\n",
        "    plt.axis('equal')\n",
        "    plt.show()"
      ]
    },
    {
      "cell_type": "markdown",
      "source": [
        "##각 월 데이터에서 버스노선의 전체 정류장중에서 승차/하차 승객의 비율이 가장 큰 정류장에 대한 파이차트 표시"
      ],
      "metadata": {
        "id": "eJXO3jV05IP1"
      },
      "id": "eJXO3jV05IP1"
    },
    {
      "cell_type": "code",
      "source": [
        "df2=df[df['노선번호']==bus_name]\n",
        "if df2.empty:\n",
        "  raise ValueError(\"입력한 버스 노선 데이터가 %s 파일에 존재하지 않습니다.\"%(f_name))\n",
        "mx=0#가장 큰 승차/하차 승객수를 저장할 값.\n",
        "rate=0#승차/하차 승객수\n",
        "busStop_name=None#버스정류장이름\n",
        "busStop_id=None#버스정류장ID\n",
        "busline_info=None#버스노선정보\n",
        "riding=None#승차승객수\n",
        "getoff=None#하차승객수\n",
        "if df.empty:\n",
        "  raise ValueError(\"데이터 및 파일이 존재하지 않습니다.\")\n",
        "for index,row in df2.iterrows():\n",
        "  for i in range(6,8):\n",
        "    row[i]=int(row[i])\n",
        "  if row[7]!=0:\n",
        "    rate=row[6]/row[7]\n",
        "    if rate>mx:\n",
        "      mx=rate\n",
        "      busStop_name=row[5]\n",
        "      busline_info=row[3]\n",
        "      busStop_id=row[4]\n",
        "      riding=row[6]\n",
        "      getoff=row[7]\n",
        "print(mx,busline_info,busStop_id)\n",
        "print(\"정류장의 승차승객수: \",riding)\n",
        "print(\"정류장의 하차승객수: \",getoff)\n",
        "df3=df2[df2[\"버스정류장ID\"]==busStop_id]\n",
        "for index, row in df3.iterrows():#승차/하차 승객 비율이 가장 큰 정류장에 대한 파이차트\n",
        "  if bus_name in row['노선번호']:\n",
        "    plt.figure(dpi=100)\n",
        "    plt.title(\"%s, %s번 버스, 정류장 : %s\"%(month_data,bus_name,row[5]))\n",
        "    values=row[6:8]\n",
        "    labels=['승차승객수','하차승객수']\n",
        "    data_labels=[f\"{label}: {value}\" for label,value in zip(labels,values)]\n",
        "    plt.pie(values, labels=data_labels, autopct='%.1f%%')\n",
        "    plt.axis('equal')\n",
        "    plt.show()"
      ],
      "metadata": {
        "id": "uSG3xMW6kJtf"
      },
      "id": "uSG3xMW6kJtf",
      "execution_count": null,
      "outputs": []
    },
    {
      "cell_type": "markdown",
      "source": [
        "##각 월 데이터에서 한 버스노선에 대한 전체 정류장의 승하차승객 파이차트 표시"
      ],
      "metadata": {
        "id": "s430zQ-P41Jl"
      },
      "id": "s430zQ-P41Jl"
    },
    {
      "cell_type": "code",
      "execution_count": null,
      "id": "68c87116-6338-4fae-acc3-dc69f58e83a8",
      "metadata": {
        "editable": true,
        "scrolled": true,
        "tags": [],
        "id": "68c87116-6338-4fae-acc3-dc69f58e83a8"
      },
      "outputs": [],
      "source": [
        "df2=df[df['노선번호']==bus_name]\n",
        "if df2.empty:\n",
        "  raise ValueError(\"입력한 버스 노선 데이터가 %s 파일에 존재하지 않습니다.\"% f_name)\n",
        "for index, row in df2.iterrows():\n",
        "  if bus_name in row['노선번호']:\n",
        "    plt.figure(dpi=100)\n",
        "    plt.rc('font',family='Malgun Gothic')\n",
        "    plt.title(\"%s, %s번 버스, 정류장 : %s\"%(month_data,bus_name,row[5]))\n",
        "    values=row[6:8]\n",
        "    labels=['승차승객수','하차승객수']\n",
        "    data_labels=[f\"{label}: {value}\" for label,value in zip(labels,values)]\n",
        "    plt.pie(values, labels=data_labels, autopct='%.1f%%')\n",
        "    plt.axis('equal')\n",
        "    plt.show()"
      ]
    },
    {
      "cell_type": "markdown",
      "source": [
        "##각 월 데이터에서 버스노선의 전체 정류장중에서 하차/승차 승객의 비율이 가장 큰 정류장에 대한 파이차트 표시"
      ],
      "metadata": {
        "id": "cQKMYPz968ZV"
      },
      "id": "cQKMYPz968ZV"
    },
    {
      "cell_type": "code",
      "source": [
        "df2=df[df['노선번호']==bus_name]\n",
        "if df2.empty:\n",
        "  raise ValueError(\"입력한 버스 노선 데이터가 %s 파일에 존재하지 않습니다.\"%(f_name))\n",
        "mx=0#가장 큰 하차/승차 승객수를 저장할 값.\n",
        "rate=0#하차/승차 승객수\n",
        "busStop_name=None#버스정류장이름\n",
        "busStop_id=None#버스정류장ID\n",
        "busline_info=None#버스노선정보\n",
        "riding=None#승차승객수\n",
        "getoff=None#하차승객수\n",
        "if df.empty:\n",
        "  raise ValueError(\"데이터 및 파일이 존재하지 않습니다.\")\n",
        "for index,row in df2.iterrows():\n",
        "  for i in range(6,8):\n",
        "    row[i]=int(row[i])\n",
        "  if row[6]!=0:\n",
        "    rate=row[7]/row[6]\n",
        "    if rate>mx:\n",
        "      mx=rate\n",
        "      busStop_name=row[5]\n",
        "      busline_info=row[3]\n",
        "      busStop_id=row[4]\n",
        "      riding=row[6]\n",
        "      getoff=row[7]\n",
        "print(mx,busline_info,busStop_id)\n",
        "print(\"정류장의 승차승객수: \",riding)\n",
        "print(\"정류장의 하차승객수: \",getoff)\n",
        "df3=df2[df2[\"버스정류장ID\"]==busStop_id]\n",
        "for index, row in df3.iterrows():#승차/하차 승객 비율이 가장 큰 정류장에 대한 파이차트\n",
        "  if bus_name in row['노선번호']:\n",
        "    plt.figure(dpi=100)\n",
        "    plt.title(\"%s, %s번 버스, 정류장 : %s\"%(month_data,bus_name,row[5]))\n",
        "    values=row[6:8]\n",
        "    labels=['승차승객수','하차승객수']\n",
        "    data_labels=[f\"{label}: {value}\" for label,value in zip(labels,values)]\n",
        "    plt.pie(values, labels=data_labels, autopct='%.1f%%')\n",
        "    plt.axis('equal')\n",
        "    plt.show()"
      ],
      "metadata": {
        "id": "jgL5RtGh6_3V"
      },
      "id": "jgL5RtGh6_3V",
      "execution_count": null,
      "outputs": []
    },
    {
      "cell_type": "markdown",
      "source": [
        "##각 월 데이터에서 모든 정류장중에서 하차/승차 비율이 높은 정류장에 대한 파이차트 표시"
      ],
      "metadata": {
        "id": "DcDT86is7wqe"
      },
      "id": "DcDT86is7wqe"
    },
    {
      "cell_type": "code",
      "source": [
        "mx=0#가장 큰 하차/승차 승객수를 저장할 값.\n",
        "rate=0#하차/승차 승객수\n",
        "busStop_name=None#버스정류장이름\n",
        "busStop_id=None#버스정류장ID\n",
        "busline_info=None#버스노선정보\n",
        "riding=None#승차승객수\n",
        "getoff=None#하차승객수\n",
        "bus_name=None#버스노선\n",
        "if df.empty:#df에 값이 있는지 확인함(디버그).\n",
        "  raise ValueError(\"데이터가 없습니다.\")\n",
        "for index,row in df.iterrows():\n",
        "  for i in range(6,8):\n",
        "    row[i]=int(row[i])\n",
        "  if row[6]!=0:#0인 경우 계산하지 않음.\n",
        "    rate=row[7]/row[6]\n",
        "    if rate>mx:#만약 rate가 mx보다 클 경우 함수 값 다시 지정\n",
        "      mx=rate\n",
        "      busStop_name=row[5]\n",
        "      busline_info=row[3]\n",
        "      busStop_id=row[4]\n",
        "      riding=row[6]\n",
        "      getoff=row[7]\n",
        "      bus_name=row[2]\n",
        "print(mx,busline_info,busStop_id)\n",
        "print(\"정류장의 승차승객수: \",riding)\n",
        "print(\"정류장의 하차승객수: \",getoff)\n",
        "df2=df[df[\"노선명\"]==busline_info]\n",
        "for index, row in df2.iterrows():#승차/하차 승객 비율이 가장 큰 정류장에 대한 파이차트\n",
        "  if busStop_id == row[4]:\n",
        "    plt.figure(dpi=100)\n",
        "    plt.rc('font', family='Malgun Gothic')\n",
        "    plt.title(\"%s, %s번 버스, 정류장 : %s\"%(month_data,bus_name,row[5]))\n",
        "    values=row[6:8]\n",
        "    labels=['승차승객수','하차승객수']\n",
        "    data_labels=[f\"{label}: {value}\" for label,value in zip(labels,values)]\n",
        "    plt.pie(values, labels=data_labels, autopct='%.1f%%')\n",
        "    plt.axis('equal')\n",
        "    plt.show()"
      ],
      "metadata": {
        "id": "XRNf9KNH78s_"
      },
      "id": "XRNf9KNH78s_",
      "execution_count": null,
      "outputs": []
    }
  ],
  "metadata": {
    "kernelspec": {
      "display_name": "Python 3",
      "name": "python3"
    },
    "language_info": {
      "codemirror_mode": {
        "name": "ipython",
        "version": 3
      },
      "file_extension": ".py",
      "mimetype": "text/x-python",
      "name": "python",
      "nbconvert_exporter": "python",
      "pygments_lexer": "ipython3",
      "version": "3.11.4"
    },
    "colab": {
      "provenance": [],
      "gpuType": "T4"
    }
  },
  "nbformat": 4,
  "nbformat_minor": 5
}