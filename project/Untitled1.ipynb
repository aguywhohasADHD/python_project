{
  "cells": [
    {
      "cell_type": "markdown",
      "source": [
        "디렉터리 확인"
      ],
      "metadata": {
        "id": "kfkZOOyZmXnx"
      },
      "id": "kfkZOOyZmXnx"
    },
    {
      "cell_type": "code",
      "source": [
        "import os\n",
        "os.getcwd()"
      ],
      "metadata": {
        "id": "y1YA8hQ2mbi5",
        "outputId": "c0d17ee9-cedb-43c2-fc77-f484fb5e1856",
        "colab": {
          "base_uri": "https://localhost:8080/",
          "height": 35
        }
      },
      "id": "y1YA8hQ2mbi5",
      "execution_count": 2,
      "outputs": [
        {
          "output_type": "execute_result",
          "data": {
            "text/plain": [
              "'/content'"
            ],
            "application/vnd.google.colaboratory.intrinsic+json": {
              "type": "string"
            }
          },
          "metadata": {},
          "execution_count": 2
        }
      ]
    },
    {
      "cell_type": "markdown",
      "source": [
        "코드"
      ],
      "metadata": {
        "id": "_N9GiViTfLN7"
      },
      "id": "_N9GiViTfLN7"
    },
    {
      "cell_type": "code",
      "execution_count": 6,
      "id": "c49bda59-a50a-4a86-b2f3-82c5455b6233",
      "metadata": {
        "id": "c49bda59-a50a-4a86-b2f3-82c5455b6233",
        "outputId": "63f49fa8-7fbc-4b3b-ca9e-a4d8b634f115",
        "colab": {
          "base_uri": "https://localhost:8080/",
          "height": 276
        }
      },
      "outputs": [
        {
          "name": "stdout",
          "output_type": "stream",
          "text": [
            "2023년 데이터중 몇 월 데이터를 불러오시겠습니까(영어로 입력해주세요)?july\n"
          ]
        },
        {
          "output_type": "error",
          "ename": "TypeError",
          "evalue": "ignored",
          "traceback": [
            "\u001b[0;31m---------------------------------------------------------------------------\u001b[0m",
            "\u001b[0;31mTypeError\u001b[0m                                 Traceback (most recent call last)",
            "\u001b[0;32m<ipython-input-6-79826bbc9a4c>\u001b[0m in \u001b[0;36m<cell line: 36>\u001b[0;34m()\u001b[0m\n\u001b[1;32m     34\u001b[0m \u001b[0mchoose_month\u001b[0m\u001b[0;34m=\u001b[0m\u001b[0minput\u001b[0m\u001b[0;34m(\u001b[0m\u001b[0;34m\"2023년 데이터중 몇 월 데이터를 불러오시겠습니까(영어로 입력해주세요)?\"\u001b[0m\u001b[0;34m)\u001b[0m\u001b[0;34m\u001b[0m\u001b[0;34m\u001b[0m\u001b[0m\n\u001b[1;32m     35\u001b[0m \u001b[0mdf\u001b[0m\u001b[0;34m=\u001b[0m\u001b[0mmonth_import\u001b[0m\u001b[0;34m(\u001b[0m\u001b[0mchoose_month\u001b[0m\u001b[0;34m)\u001b[0m\u001b[0;34m\u001b[0m\u001b[0;34m\u001b[0m\u001b[0m\n\u001b[0;32m---> 36\u001b[0;31m \u001b[0mmx\u001b[0m\u001b[0;34m,\u001b[0m\u001b[0mrate\u001b[0m\u001b[0;34m=\u001b[0m\u001b[0;36m0\u001b[0m\u001b[0;34m\u001b[0m\u001b[0;34m\u001b[0m\u001b[0m\n\u001b[0m\u001b[1;32m     37\u001b[0m \u001b[0mbusStop_name\u001b[0m\u001b[0;34m=\u001b[0m\u001b[0;32mNone\u001b[0m\u001b[0;34m\u001b[0m\u001b[0;34m\u001b[0m\u001b[0m\n\u001b[1;32m     38\u001b[0m \u001b[0mbusStop_id\u001b[0m\u001b[0;34m=\u001b[0m\u001b[0;32mNone\u001b[0m\u001b[0;34m\u001b[0m\u001b[0;34m\u001b[0m\u001b[0m\n",
            "\u001b[0;31mTypeError\u001b[0m: cannot unpack non-iterable int object"
          ]
        }
      ],
      "source": [
        "import pandas as pd # 승차/하차 계산 코드\n",
        "from matplotlib import pyplot as plt\n",
        "month_data=None\n",
        "f_name=None\n",
        "def month_import(month):\n",
        "  global df\n",
        "  global month_data\n",
        "  global f_name\n",
        "  if month.lower()=='january':\n",
        "    f_name='data/bus_station_month_january.csv'\n",
        "    month_data='1월'\n",
        "  elif month.lower()=='february':\n",
        "    f_name='data/bus_station_month_february.csv'\n",
        "    month_data='2월'\n",
        "  elif month.lower()=='march':\n",
        "    f_name='data/bus_station_month_march.csv'\n",
        "    month_data='3월'\n",
        "  elif month.lower()=='april':\n",
        "    f_name='data/bus_station_month_april.csv'\n",
        "    month_data='4월'\n",
        "  elif month.lower()=='may':\n",
        "    f_name='data/bus_station_month_may.csv'\n",
        "    month_data='5월'\n",
        "  elif month.lower()=='june':\n",
        "    f_name='data/bus_station_month_june.csv'\n",
        "    month_data='6월'\n",
        "  elif month.lower()=='july':\n",
        "    f_name='data/bus_station_month_july.csv'\n",
        "    month_data='7월'\n",
        "  else:\n",
        "    raise ValueError(\"잘못 입력하셨습니다.\")\n",
        "  df=pd.read_csv(f_name,encoding='cp949')\n",
        "  return df\n",
        "choose_month=input(\"2023년 데이터중 몇 월 데이터를 불러오시겠습니까(영어로 입력해주세요)?\")\n",
        "df=month_import(choose_month)\n",
        "mx=0\n",
        "rate=0\n",
        "busStop_name=None\n",
        "busStop_id=None\n",
        "busline_info=None\n",
        "riding=None\n",
        "getoff=None\n",
        "bus_name2=None\n",
        "if df.empty: #df에 값이 있는지 확인함(디버그).\n",
        "  raise ValueError(\"데이터가 없습니다.\")\n",
        "for index,row in df.iterrows():\n",
        "  for i in range(6,8):\n",
        "    row[i]=int(row[i])\n",
        "  if row[7]!=0:\n",
        "    rate=row[6]/row[7]\n",
        "    if rate>mx:\n",
        "      mx=rate\n",
        "      busStop_name=row[5]\n",
        "      busline_info=row[3]\n",
        "      busStop_id=row[4]\n",
        "      riding=row[6]\n",
        "      getoff=row[7]\n",
        "      bus_name2=row[2]\n",
        "print(mx,busline_info,busStop_id)\n",
        "print(\"정류장의 승차승객수: \",riding)\n",
        "print(\"정류장의 하차승객수: \",getoff)\n",
        "df2=df[df[\"노선명\"]==busline_info]\n",
        "for index, row in df2.iterrows():\n",
        "  if busStop_id == row[4]:\n",
        "    plt.figure(dpi=300)\n",
        "    plt.rc('font', family='Malgun Gothic')\n",
        "    plt.title(\"%s, %s번 버스, 정류장 : %s\"%(month_data,bus_name2,row[5]))\n",
        "    values=row[6:8]\n",
        "    labels=['승차승객수','하차승객수']\n",
        "    data_labels=[f\"{label}: {value}\" for label,value in zip(labels,values)]\n",
        "    plt.pie(values, labels=data_labels, autopct='%.1f%%')\n",
        "    plt.axis('equal')\n",
        "    plt.show()"
      ]
    },
    {
      "cell_type": "code",
      "source": [
        "import pandas as pd # 승차/하차 계산 코드 (버스 노선 입력)\n",
        "from matplotlib import pyplot as plt\n",
        "month_data=None\n",
        "f_name=None\n",
        "def month_import(month):\n",
        "  global df\n",
        "  global month_data\n",
        "  global f_name\n",
        "  if month.lower()=='january':\n",
        "    f_name='data/bus_station_month_january.csv'\n",
        "    month_data='1월'\n",
        "  elif month.lower()=='february':\n",
        "    f_name='data/bus_station_month_february.csv'\n",
        "    month_data='2월'\n",
        "  elif month.lower()=='march':\n",
        "    f_name='data/bus_station_month_march.csv'\n",
        "    month_data='3월'\n",
        "  elif month.lower()=='april':\n",
        "    f_name='data/bus_station_month_april.csv'\n",
        "    month_data='4월'\n",
        "  elif month.lower()=='may':\n",
        "    f_name='data/bus_station_month_may.csv'\n",
        "    month_data='5월'\n",
        "  elif month.lower()=='june':\n",
        "    f_name='data/bus_station_month_june.csv'\n",
        "    month_data='6월'\n",
        "  elif month.lower()=='july':\n",
        "    f_name='data/bus_station_month_july.csv'\n",
        "    month_data='7월'\n",
        "  else:\n",
        "    raise ValueError(\"잘못 입력하셨습니다.\")\n",
        "  df=pd.read_csv(f_name,encoding='cp949')\n",
        "  return df\n",
        "choose_month=input(\"2023년 데이터중 몇 월 데이터를 불러오시겠습니까(영어로 입력해주세요)?\")\n",
        "df=month_import(choose_month)\n",
        "bus_name=input('버스 노선을 입력해주세요(csv파일의 노선 번호열을 참고하여 입력해주세요).')\n",
        "df2=df[df['노선번호']==bus_name]\n",
        "if df2.empty:\n",
        "  raise ValueError(\"입력한 버스 노선 데이터가 %s 파일에 존재하지 않습니다.\"%(f_name))\n",
        "mx=0\n",
        "rate=0\n",
        "busStop_name=None\n",
        "busStop_id=None\n",
        "busline_info=None\n",
        "riding=None\n",
        "getoff=None\n",
        "if df.empty:\n",
        "  raise ValueError(\"데이터 및 파일이 존재하지 않습니다.\")\n",
        "for index,row in df2.iterrows():\n",
        "  for i in range(6,8):\n",
        "    row[i]=int(row[i])\n",
        "  if row[7]!=0:\n",
        "    rate=row[6]/row[7]\n",
        "    if rate>mx:\n",
        "      mx=rate\n",
        "      busStop_name=row[5]\n",
        "      busline_info=row[3]\n",
        "      busStop_id=row[4]\n",
        "      riding=row[6]\n",
        "      getoff=row[7]\n",
        "print(mx,busline_info,busStop_id)\n",
        "print(\"정류장의 승차승객수: \",riding)\n",
        "print(\"정류장의 하차승객수: \",getoff)\n",
        "df3=df2[df2[\"버스정류장ID\"]==busStop_id]\n",
        "for index, row in df3.iterrows():\n",
        "  if bus_name in row['노선번호']:\n",
        "    plt.figure(dpi=300)\n",
        "    plt.title(\"%s, %s번 버스, 정류장 : %s\"%(month_data,bus_name,row[5]))\n",
        "    values=row[6:8]\n",
        "    labels=['승차승객수','하차승객수']\n",
        "    data_labels=[f\"{label}: {value}\" for label,value in zip(labels,values)]\n",
        "    plt.pie(values, labels=data_labels, autopct='%.1f%%')\n",
        "    plt.axis('equal')\n",
        "    plt.show()"
      ],
      "metadata": {
        "id": "uSG3xMW6kJtf"
      },
      "id": "uSG3xMW6kJtf",
      "execution_count": null,
      "outputs": []
    },
    {
      "cell_type": "code",
      "execution_count": null,
      "id": "68c87116-6338-4fae-acc3-dc69f58e83a8",
      "metadata": {
        "editable": true,
        "scrolled": true,
        "tags": [],
        "id": "68c87116-6338-4fae-acc3-dc69f58e83a8"
      },
      "outputs": [],
      "source": [
        "import pandas as pd #그래프\n",
        "import matplotlib.pyplot as plt\n",
        "month_data=None\n",
        "f_name=None\n",
        "def month_import(month):\n",
        "  global df\n",
        "  global month_data\n",
        "  global f_name\n",
        "  if month.lower()=='january':\n",
        "    f_name='data/bus_station_month_january.csv'\n",
        "    month_data=\"1월\"\n",
        "  elif month.lower()=='february':\n",
        "    f_name='data/bus_station_month_february.csv'\n",
        "    month_data=\"2월\"\n",
        "  elif month.lower()=='march':\n",
        "    f_name='data/bus_station_month_march.csv'\n",
        "    month_data=\"3월\"\n",
        "  elif month.lower()=='april':\n",
        "    f_name='data/bus_station_month_april.csv'\n",
        "    month_data=\"4월\"\n",
        "  elif month.lower()=='may':\n",
        "    f_name='data/bus_station_month_may.csv'\n",
        "    month_data=\"5월\"\n",
        "  elif month.lower()=='june':\n",
        "    f_name='data/bus_station_month_june.csv'\n",
        "    month_data=\"6월\"\n",
        "  elif month.lower()=='july':\n",
        "    f_name='data/bus_station_month_july.csv'\n",
        "    month_data=\"7월\"\n",
        "  else:\n",
        "    raise ValueError('잘못 입력하셨습니다.')\n",
        "  df=pd.read_csv(f_name,encoding='cp949')\n",
        "  return df\n",
        "choose_month=input(\"2023년 데이터중 몇 월 데이터를 불러오시겠습니까(영어로 입력하세요)?\")\n",
        "df=month_import(choose_month)\n",
        "bus_name=input('버스 노선을 입력해주세요(csv파일의 노선 번호열을 참고하여 입력해주세요).')\n",
        "df2=df[df['노선번호']==bus_name]\n",
        "if df2.empty:\n",
        "  raise ValueError(\"입력한 버스 노선 데이터가 %s 파일에 존재하지 않습니다.\"%(f_name))\n",
        "for index, row in df2.iterrows():\n",
        "  if bus_name in row['노선번호']:\n",
        "    plt.figure(dpi=300)\n",
        "    plt.rc('font',family='Malgun Gothic')\n",
        "    plt.title(\"%s, %s번 버스, 정류장 : %s\"%(month_data,bus_name,row[5]))\n",
        "    values=row[6:8]\n",
        "    labels=['승차승객수','하차승객수']\n",
        "    data_labels=[f\"{label}: {value}\" for label,value in zip(labels,values)]\n",
        "    plt.pie(values, labels=data_labels, autopct='%.1f%%')\n",
        "    plt.axis('equal')\n",
        "    plt.show()"
      ]
    },
    {
      "cell_type": "code",
      "execution_count": null,
      "id": "39f0a0e1-2df0-4b4f-9e5d-bd15cf2a872d",
      "metadata": {
        "id": "39f0a0e1-2df0-4b4f-9e5d-bd15cf2a872d"
      },
      "outputs": [],
      "source": [
        "import pandas as pd #서브플롯(작동안함).\n",
        "import matplotlib.pyplot as plt\n",
        "month_data=None\n",
        "f_name=None\n",
        "def month_import(month):\n",
        "  global df\n",
        "  global month_data\n",
        "  global f_name\n",
        "  if month.lower()=='january':\n",
        "    f_name='data/bus_station_month_january.csv'\n",
        "    month_data='1월'\n",
        "  elif month.lower()=='february':\n",
        "    f_name='data/bus_station_month_february.csv'\n",
        "    month_data='2월'\n",
        "  elif month.lower()=='march':\n",
        "    f_name='data/bus_station_month_march.csv'\n",
        "    month_data='3월'\n",
        "  elif month.lower()=='april':\n",
        "    f_name='data/bus_station_month_april.csv'\n",
        "    month_data='4월'\n",
        "  elif month.lower()=='may':\n",
        "    f_name='data/bus_station_month_may.csv'\n",
        "    month_data='5월'\n",
        "  elif month.lower()=='june':\n",
        "    f_name='data/bus_station_month_june.csv'\n",
        "    month_data='6월'\n",
        "  elif month.lower()=='july':\n",
        "    f_name='data/bus_station_month_july.csv'\n",
        "    month_data='7월'\n",
        "  else:\n",
        "    raise ValueError(\"잘못 입력하셨습니다.\")\n",
        "  df=pd.read_csv(f_name,encoding='cp949')\n",
        "  return df\n",
        "def plot_pie_chart(df2,bus_name,month_data):\n",
        "  plt.figure(dpi=300)\n",
        "  plt.rc('font',family='Malgun Gothic')\n",
        "  plt.title(\"%s, %s번 버스, 정류장 : %s\" % (month_data, bus_name, df2.iloc[0, 5]))\n",
        "  plt.pie(values,labels=data_labels,autopct='%.1f%%')\n",
        "  plt.axis('equal')\n",
        "choose_month=input(\"2023년 데이터중 몇 월 데이터를 불러오시겠습니까(영어로 입력해주셍요)?\")\n",
        "df=month_import(choose_month)\n",
        "bus_name=input('버스 노선을 입력해주세요(csv파일의 노선 번호명을 참고하여 입력해주세요).')\n",
        "df2=df[df['노선번호']==bus_name]\n",
        "if df2.empty:\n",
        "  raise ValueError('입력한 버스 노선 데이터가 %s 파일에 존재하지 않습니다.'%(f_name))\n",
        "plt.figure(figsize=(12,8))\n",
        "num_subplots=len(df2)\n",
        "for i in range(num_subplots):\n",
        "  plt.subplot(1,num_subplots,i+1)\n",
        "  values=df2.iloc[i,6:8]\n",
        "  labels=['승차승객수','하차승객수']\n",
        "  data_labels=[f\"{label}:{value}\" for label,value in zip(labels,values)]\n",
        "  plot_pie_chart(df2.iloc[[i]], bus_name, month_data)\n",
        "  plt.close()\n",
        "plt.tight_layout()\n",
        "plt.show()"
      ]
    }
  ],
  "metadata": {
    "kernelspec": {
      "display_name": "Python 3",
      "name": "python3"
    },
    "language_info": {
      "codemirror_mode": {
        "name": "ipython",
        "version": 3
      },
      "file_extension": ".py",
      "mimetype": "text/x-python",
      "name": "python",
      "nbconvert_exporter": "python",
      "pygments_lexer": "ipython3",
      "version": "3.11.4"
    },
    "colab": {
      "provenance": [],
      "gpuType": "T4"
    }
  },
  "nbformat": 4,
  "nbformat_minor": 5
}