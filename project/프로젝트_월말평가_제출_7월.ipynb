{
 "cells": [
  {
   "cell_type": "code",
   "execution_count": null,
   "id": "1b37bb21-0c78-44c2-bec9-9ee8f80b1a6e",
   "metadata": {},
   "outputs": [],
   "source": [
    "import pandas\n",
    "print(pandas.__version__) #pandas 모듈 버전 확인"
   ]
  },
  {
   "cell_type": "code",
   "execution_count": null,
   "id": "68c87116-6338-4fae-acc3-dc69f58e83a8",
   "metadata": {},
   "outputs": [],
   "source": [
    "import pandas as pd #pandas 모듈 불러옴.\n",
    "import matplotlib.pyplot as plt #matplotlib모듈에서 pyplot의 모듈을 plt 이름으로 지정하여 불러옴.\n",
    "\n",
    "choose_month=input(\"2023년 데이터중 몇 월 데이터를 불러오시겠습니까(영어로 입력하세요)?\")\n",
    "month_data=\"\" #month_import 함수에서 사용할 함수 미리 지정함.\n",
    "f_name=\"\" #month_import 함수에서 사용될 함수 미리 지정함\n",
    "\n",
    "def month_import(month): #함수에 입력되는 month 값에 따라 csv 파일을 pandas로 불러옴.\n",
    "    global df\n",
    "    global month_data\n",
    "    global f_name\n",
    "    if month=='january' or month=='January':\n",
    "        df=pd.read_csv('bus_station_month_january.csv',encoding='cp949')\n",
    "        month_data='1월'\n",
    "        f_name='bus_station_month_january.csv'\n",
    "        return df\n",
    "    elif month=='feburary' or month=='Feburary':\n",
    "        df=pd.read_csv('bus_station_month_feburary.csv',encoding='cp949')\n",
    "        month_data='2월'\n",
    "        f_name='bus_station_month_feburary.csv'\n",
    "        return df\n",
    "    elif month=='march' or month=='March':\n",
    "        df=pd.read_csv('bus_station_month_march.csv',encoding='cp949')\n",
    "        month_data='3월'\n",
    "        f_name='bus_station_month_march.csv'\n",
    "        return df\n",
    "    elif month=='april' or month=='April':\n",
    "        df=pd.read_csv('bus_station_month_april.csv',encoding='cp949')\n",
    "        month_data='4월'\n",
    "        f_name='bus_station_month_april.csv'\n",
    "        return df\n",
    "    elif month=='may' or month=='May':\n",
    "        df=pd.read_csv('bus_station_month_may.csv',encoding='cp949')\n",
    "        month_data='5월'\n",
    "        f_name='bus_station_month_may.csv'\n",
    "        return df\n",
    "    elif month=='june' or month=='June':\n",
    "        df=pd.read_csv('bus_station_month_june.csv',encoding='cp949')\n",
    "        month_data='6월'\n",
    "        f_name='bus_station_month_june.csv'\n",
    "        return df\n",
    "    else:\n",
    "        raise ValueError('잘못 입력하셨습니다.') #만약에 함수에 입력되는 month 값이 잘못될 경우 ValueError를 표시함.\n",
    "\n",
    "df=month_import(choose_month) #df값에 month_import 함수를 사용하여 pandas DataFrame을 불러옴,\n",
    "bus_name=input('버스 노선을 입력해주세요(csv파일의 노선 번호열을 참고하여 입력해주세요).') # 버스 노선 번호를 입력받음.\n",
    "df2=df[df['노선번호']==bus_name] # 버스 노선 번호에 해당하는  DataFrame을 따로 다시 만듦.\n",
    "bus_name_in_data=0 #버스 노선이 DataFrame에 있는지 확인하는 값. (0일 경우 버스 노선이 DataFrame에 없고, 1일 경우 버스 노선이 DataFrame에 있음)\n",
    "for index, row in df2.iterrows():\n",
    "    if bus_name in row['노선번호']:\n",
    "        bus_name_in_data=1\n",
    "        plt.figure(dpi=300)\n",
    "        plt.rc('font',family='Malgun Gothic')\n",
    "        plt.title(\"%s,%s번 버스, 정류장 : %s\"%(month_data,bus_name,row[5]))\n",
    "        plt.pie(row[6:8],labels=['승차승객수','하차승객수'],autopct='%.1f%%')\n",
    "        plt.axis('equal')\n",
    "        plt.legend()\n",
    "        plt.show() #df의 데이터를 이용하여 plt를 이용해 그래프를 그림.\n",
    "if bus_name_in_data==0:\n",
    "    raise TypeError('입력한 버스 노선 데이터가 %s 파일에 존재하지 않습니다.'%(f_name)) #만약 bus_name_in_data가 0일 경우 TypeError를 표시함."
   ]
  }
 ],
 "metadata": {
  "kernelspec": {
   "display_name": "Python 3 (ipykernel)",
   "language": "python",
   "name": "python3"
  },
  "language_info": {
   "codemirror_mode": {
    "name": "ipython",
    "version": 3
   },
   "file_extension": ".py",
   "mimetype": "text/x-python",
   "name": "python",
   "nbconvert_exporter": "python",
   "pygments_lexer": "ipython3",
   "version": "3.11.4"
  }
 },
 "nbformat": 4,
 "nbformat_minor": 5
}
