{
 "cells": [
  {
   "cell_type": "code",
   "execution_count": 9,
   "id": "83083949-495f-431d-b92d-ed88b240357c",
   "metadata": {
    "tags": []
   },
   "outputs": [
    {
     "name": "stdin",
     "output_type": "stream",
     "text": [
      "인구 구조가 알고 싶은 지역의 이름(읍면동 단위)을(를) 입력해주세요 :  양재1동\n"
     ]
    },
    {
     "ename": "AttributeError",
     "evalue": "module 'numpy' has no attribute 'arrary'",
     "output_type": "error",
     "traceback": [
      "\u001b[1;31m---------------------------------------------------------------------------\u001b[0m",
      "\u001b[1;31mAttributeError\u001b[0m                            Traceback (most recent call last)",
      "Cell \u001b[1;32mIn[9], line 13\u001b[0m\n\u001b[0;32m     11\u001b[0m \u001b[38;5;28;01mfor\u001b[39;00m row \u001b[38;5;129;01min\u001b[39;00m data:\n\u001b[0;32m     12\u001b[0m     \u001b[38;5;28;01mif\u001b[39;00m name \u001b[38;5;129;01min\u001b[39;00m row[\u001b[38;5;241m0\u001b[39m]:\n\u001b[1;32m---> 13\u001b[0m         home\u001b[38;5;241m=\u001b[39mnp\u001b[38;5;241m.\u001b[39marrary(row[\u001b[38;5;241m3\u001b[39m:],dtype\u001b[38;5;241m=\u001b[39m\u001b[38;5;28mint\u001b[39m)\u001b[38;5;241m/\u001b[39m\u001b[38;5;28mint\u001b[39m(row[\u001b[38;5;241m2\u001b[39m])\n\u001b[0;32m     14\u001b[0m \u001b[38;5;28;01mfor\u001b[39;00m row \u001b[38;5;129;01min\u001b[39;00m data:\n\u001b[0;32m     15\u001b[0m     away\u001b[38;5;241m=\u001b[39mnp\u001b[38;5;241m.\u001b[39marrary(row[\u001b[38;5;241m3\u001b[39m:],dtype\u001b[38;5;241m=\u001b[39m\u001b[38;5;28mint\u001b[39m)\u001b[38;5;241m/\u001b[39m\u001b[38;5;28mint\u001b[39m(row[\u001b[38;5;241m2\u001b[39m])\n",
      "File \u001b[1;32mC:\\ProgramData\\anaconda3\\envs\\pythonGJH\\Lib\\site-packages\\numpy\\__init__.py:320\u001b[0m, in \u001b[0;36m__getattr__\u001b[1;34m(attr)\u001b[0m\n\u001b[0;32m    317\u001b[0m     \u001b[38;5;28;01mfrom\u001b[39;00m \u001b[38;5;21;01m.\u001b[39;00m\u001b[38;5;21;01mtesting\u001b[39;00m \u001b[38;5;28;01mimport\u001b[39;00m Tester\n\u001b[0;32m    318\u001b[0m     \u001b[38;5;28;01mreturn\u001b[39;00m Tester\n\u001b[1;32m--> 320\u001b[0m \u001b[38;5;28;01mraise\u001b[39;00m \u001b[38;5;167;01mAttributeError\u001b[39;00m(\u001b[38;5;124m\"\u001b[39m\u001b[38;5;124mmodule \u001b[39m\u001b[38;5;132;01m{!r}\u001b[39;00m\u001b[38;5;124m has no attribute \u001b[39m\u001b[38;5;124m\"\u001b[39m\n\u001b[0;32m    321\u001b[0m                      \u001b[38;5;124m\"\u001b[39m\u001b[38;5;132;01m{!r}\u001b[39;00m\u001b[38;5;124m\"\u001b[39m\u001b[38;5;241m.\u001b[39mformat(\u001b[38;5;18m__name__\u001b[39m, attr))\n",
      "\u001b[1;31mAttributeError\u001b[0m: module 'numpy' has no attribute 'arrary'"
     ]
    }
   ],
   "source": [
    "import numpy as np\n",
    "import csv\n",
    "f=open('age.csv')\n",
    "data=csv.reader(f)\n",
    "next(data)\n",
    "data=list(data)\n",
    "name=input('인구 구조가 알고 싶은 지역의 이름(읍면동 단위)을(를) 입력해주세요 : ')\n",
    "mn=1\n",
    "result=name=''\n",
    "result=0\n",
    "for row in data:\n",
    "    if name in row[0]:\n",
    "        home=np.arrary(row[3:],dtype=int)/int(row[2])\n",
    "for row in data:\n",
    "    away=np.arrary(row[3:],dtype=int)/int(row[2])\n",
    "    s=np.sum((home-away)**2)\n",
    "    if s<mn and name not in row[0]:\n",
    "        mn=s\n",
    "        result_name=row[0]\n",
    "        result=away\n",
    "import matplotlib.pyplot as plt\n",
    "plt.style.use('ggplot')\n",
    "plt.figure(figsize=(10,5),dpi=300)\n",
    "plt.rc('font',family='Malgun Gothic')\n",
    "plt.title(name+' 지역과 가장 비슷한 인구 구조를 가진 지역')\n",
    "plt.plot(home,labeel=name)\n",
    "plt.plot(result,label=result_name)\n",
    "plt.legend()\n",
    "plt.show()"
   ]
  },
  {
   "cell_type": "code",
   "execution_count": 14,
   "id": "84b19f7b-de36-428f-9857-fb5db7ddb21b",
   "metadata": {
    "tags": []
   },
   "outputs": [
    {
     "name": "stdout",
     "output_type": "stream",
     "text": [
      "DatetimeIndex(['2000-01-01', '2000-01-02', '2000-01-03', '2000-01-04',\n",
      "               '2000-01-05', '2000-01-06', '2000-01-07', '2000-01-08'],\n",
      "              dtype='datetime64[ns]', freq='D')\n"
     ]
    },
    {
     "data": {
      "text/html": [
       "<div>\n",
       "<style scoped>\n",
       "    .dataframe tbody tr th:only-of-type {\n",
       "        vertical-align: middle;\n",
       "    }\n",
       "\n",
       "    .dataframe tbody tr th {\n",
       "        vertical-align: top;\n",
       "    }\n",
       "\n",
       "    .dataframe thead th {\n",
       "        text-align: right;\n",
       "    }\n",
       "</style>\n",
       "<table border=\"1\" class=\"dataframe\">\n",
       "  <thead>\n",
       "    <tr style=\"text-align: right;\">\n",
       "      <th></th>\n",
       "      <th>A</th>\n",
       "      <th>B</th>\n",
       "      <th>C</th>\n",
       "    </tr>\n",
       "  </thead>\n",
       "  <tbody>\n",
       "    <tr>\n",
       "      <th>2000-01-01</th>\n",
       "      <td>0.127022</td>\n",
       "      <td>0.509600</td>\n",
       "      <td>0.388661</td>\n",
       "    </tr>\n",
       "    <tr>\n",
       "      <th>2000-01-02</th>\n",
       "      <td>0.272068</td>\n",
       "      <td>0.706834</td>\n",
       "      <td>0.034987</td>\n",
       "    </tr>\n",
       "    <tr>\n",
       "      <th>2000-01-03</th>\n",
       "      <td>0.322192</td>\n",
       "      <td>0.887290</td>\n",
       "      <td>0.854065</td>\n",
       "    </tr>\n",
       "    <tr>\n",
       "      <th>2000-01-04</th>\n",
       "      <td>0.486817</td>\n",
       "      <td>0.225106</td>\n",
       "      <td>0.029200</td>\n",
       "    </tr>\n",
       "    <tr>\n",
       "      <th>2000-01-05</th>\n",
       "      <td>0.687849</td>\n",
       "      <td>0.394847</td>\n",
       "      <td>0.132432</td>\n",
       "    </tr>\n",
       "    <tr>\n",
       "      <th>2000-01-06</th>\n",
       "      <td>0.576262</td>\n",
       "      <td>0.233103</td>\n",
       "      <td>0.760138</td>\n",
       "    </tr>\n",
       "    <tr>\n",
       "      <th>2000-01-07</th>\n",
       "      <td>0.930434</td>\n",
       "      <td>0.506012</td>\n",
       "      <td>0.073217</td>\n",
       "    </tr>\n",
       "    <tr>\n",
       "      <th>2000-01-08</th>\n",
       "      <td>0.790523</td>\n",
       "      <td>0.700317</td>\n",
       "      <td>0.468474</td>\n",
       "    </tr>\n",
       "  </tbody>\n",
       "</table>\n",
       "</div>"
      ],
      "text/plain": [
       "                   A         B         C\n",
       "2000-01-01  0.127022  0.509600  0.388661\n",
       "2000-01-02  0.272068  0.706834  0.034987\n",
       "2000-01-03  0.322192  0.887290  0.854065\n",
       "2000-01-04  0.486817  0.225106  0.029200\n",
       "2000-01-05  0.687849  0.394847  0.132432\n",
       "2000-01-06  0.576262  0.233103  0.760138\n",
       "2000-01-07  0.930434  0.506012  0.073217\n",
       "2000-01-08  0.790523  0.700317  0.468474"
      ]
     },
     "execution_count": 14,
     "metadata": {},
     "output_type": "execute_result"
    }
   ],
   "source": [
    "import pandas as pd\n",
    "index=pd.date_range('1/1/2000',periods=8)\n",
    "print(index)\n",
    "import numpy as np\n",
    "df=pd.DataFrame(np.random.rand(8,3),index=index,columns=list('ABC'))\n",
    "df"
   ]
  },
  {
   "cell_type": "code",
   "execution_count": 15,
   "id": "4a1c33d1-6d2d-4b85-baf2-a784546af450",
   "metadata": {
    "tags": []
   },
   "outputs": [
    {
     "name": "stdout",
     "output_type": "stream",
     "text": [
      "2000-01-01    0.165599\n",
      "2000-01-02    0.728334\n",
      "2000-01-03    0.598579\n",
      "2000-01-04    0.581562\n",
      "2000-01-05    0.091683\n",
      "2000-01-06    0.673759\n",
      "2000-01-07    0.978619\n",
      "2000-01-08    0.468846\n",
      "Freq: D, Name: B, dtype: float64\n"
     ]
    }
   ],
   "source": [
    "import pandas as pd\n",
    "import numpy as np\n",
    "index=pd.date_range('1/1/2000',periods=8)\n",
    "df=pd.DataFrame(np.random.rand(8,3),index=index,columns=list('ABC'))\n",
    "print(df['B'])"
   ]
  },
  {
   "cell_type": "code",
   "execution_count": 16,
   "id": "2c9fe3cb-621d-4a52-98dd-d7803c1d97fd",
   "metadata": {
    "tags": []
   },
   "outputs": [
    {
     "ename": "TypeError",
     "evalue": "DataFrame.__init__() got an unexpected keyword argument 'colums'",
     "output_type": "error",
     "traceback": [
      "\u001b[1;31m---------------------------------------------------------------------------\u001b[0m",
      "\u001b[1;31mTypeError\u001b[0m                                 Traceback (most recent call last)",
      "Cell \u001b[1;32mIn[16], line 4\u001b[0m\n\u001b[0;32m      2\u001b[0m \u001b[38;5;28;01mimport\u001b[39;00m \u001b[38;5;21;01mnumpy\u001b[39;00m \u001b[38;5;28;01mas\u001b[39;00m \u001b[38;5;21;01mnp\u001b[39;00m\n\u001b[0;32m      3\u001b[0m index\u001b[38;5;241m=\u001b[39mpd\u001b[38;5;241m.\u001b[39mdate_range(\u001b[38;5;124m'\u001b[39m\u001b[38;5;124m1/1/2000\u001b[39m\u001b[38;5;124m'\u001b[39m,periods\u001b[38;5;241m=\u001b[39m\u001b[38;5;241m8\u001b[39m)\n\u001b[1;32m----> 4\u001b[0m df\u001b[38;5;241m=\u001b[39mpd\u001b[38;5;241m.\u001b[39mDataFrame(np\u001b[38;5;241m.\u001b[39mrandom\u001b[38;5;241m.\u001b[39mrand(\u001b[38;5;241m8\u001b[39m,\u001b[38;5;241m3\u001b[39m),index\u001b[38;5;241m=\u001b[39mindex,colums\u001b[38;5;241m=\u001b[39m\u001b[38;5;28mlist\u001b[39m(\u001b[38;5;124m'\u001b[39m\u001b[38;5;124mABC\u001b[39m\u001b[38;5;124m'\u001b[39m))\n\u001b[0;32m      5\u001b[0m \u001b[38;5;28mprint\u001b[39m(df[\u001b[38;5;124m'\u001b[39m\u001b[38;5;124mB\u001b[39m\u001b[38;5;124m'\u001b[39m]\u001b[38;5;241m>\u001b[39m\u001b[38;5;241m0.4\u001b[39m)\n",
      "\u001b[1;31mTypeError\u001b[0m: DataFrame.__init__() got an unexpected keyword argument 'colums'"
     ]
    }
   ],
   "source": [
    "import pandas as pd\n",
    "import numpy as np\n",
    "index=pd.date_range('1/1/2000',periods=8)\n",
    "df=pd.DataFrame(np.random.rand(8,3),index=index,colums=list('ABC'))\n",
    "print(df['B']>0.4)"
   ]
  },
  {
   "cell_type": "code",
   "execution_count": 17,
   "id": "7fa117c6-f5ec-485e-9953-ddf01eddd210",
   "metadata": {
    "tags": []
   },
   "outputs": [
    {
     "ename": "SyntaxError",
     "evalue": "cannot assign to literal (2727546626.py, line 5)",
     "output_type": "error",
     "traceback": [
      "\u001b[1;36m  Cell \u001b[1;32mIn[17], line 5\u001b[1;36m\u001b[0m\n\u001b[1;33m    df=['0']=df['A']/df['B']\u001b[0m\n\u001b[1;37m        ^\u001b[0m\n\u001b[1;31mSyntaxError\u001b[0m\u001b[1;31m:\u001b[0m cannot assign to literal\n"
     ]
    }
   ],
   "source": [
    "import pandas as pd\n",
    "import numpy as np\n",
    "index=pd.date(range('1/1/2000',periods=8))\n",
    "df=pd.DataFrame(np.random.rand(8,3),index=index,columns=list('ABC'))\n",
    "df=['0']=df['A']/df['B']\n",
    "df"
   ]
  },
  {
   "cell_type": "code",
   "execution_count": 20,
   "id": "b8be3fda-106b-492f-b550-25de4daa85a5",
   "metadata": {
    "tags": []
   },
   "outputs": [
    {
     "data": {
      "text/html": [
       "<div>\n",
       "<style scoped>\n",
       "    .dataframe tbody tr th:only-of-type {\n",
       "        vertical-align: middle;\n",
       "    }\n",
       "\n",
       "    .dataframe tbody tr th {\n",
       "        vertical-align: top;\n",
       "    }\n",
       "\n",
       "    .dataframe thead th {\n",
       "        text-align: right;\n",
       "    }\n",
       "</style>\n",
       "<table border=\"1\" class=\"dataframe\">\n",
       "  <thead>\n",
       "    <tr style=\"text-align: right;\">\n",
       "      <th></th>\n",
       "      <th>A</th>\n",
       "      <th>B</th>\n",
       "      <th>C</th>\n",
       "      <th>0</th>\n",
       "      <th>E</th>\n",
       "    </tr>\n",
       "  </thead>\n",
       "  <tbody>\n",
       "    <tr>\n",
       "      <th>2000-01-01</th>\n",
       "      <td>0.012355</td>\n",
       "      <td>0.156871</td>\n",
       "      <td>0.315836</td>\n",
       "      <td>0.078760</td>\n",
       "      <td>0.563822</td>\n",
       "    </tr>\n",
       "    <tr>\n",
       "      <th>2000-01-02</th>\n",
       "      <td>0.529884</td>\n",
       "      <td>0.036324</td>\n",
       "      <td>0.855647</td>\n",
       "      <td>14.587709</td>\n",
       "      <td>16.009565</td>\n",
       "    </tr>\n",
       "    <tr>\n",
       "      <th>2000-01-03</th>\n",
       "      <td>0.570025</td>\n",
       "      <td>0.796578</td>\n",
       "      <td>0.689519</td>\n",
       "      <td>0.715592</td>\n",
       "      <td>2.771714</td>\n",
       "    </tr>\n",
       "    <tr>\n",
       "      <th>2000-01-04</th>\n",
       "      <td>0.495888</td>\n",
       "      <td>0.233991</td>\n",
       "      <td>0.191194</td>\n",
       "      <td>2.119262</td>\n",
       "      <td>3.040334</td>\n",
       "    </tr>\n",
       "    <tr>\n",
       "      <th>2000-01-05</th>\n",
       "      <td>0.404490</td>\n",
       "      <td>0.021578</td>\n",
       "      <td>0.994268</td>\n",
       "      <td>18.745667</td>\n",
       "      <td>20.166003</td>\n",
       "    </tr>\n",
       "  </tbody>\n",
       "</table>\n",
       "</div>"
      ],
      "text/plain": [
       "                   A         B         C          0          E\n",
       "2000-01-01  0.012355  0.156871  0.315836   0.078760   0.563822\n",
       "2000-01-02  0.529884  0.036324  0.855647  14.587709  16.009565\n",
       "2000-01-03  0.570025  0.796578  0.689519   0.715592   2.771714\n",
       "2000-01-04  0.495888  0.233991  0.191194   2.119262   3.040334\n",
       "2000-01-05  0.404490  0.021578  0.994268  18.745667  20.166003"
      ]
     },
     "execution_count": 20,
     "metadata": {},
     "output_type": "execute_result"
    }
   ],
   "source": [
    "import pandas as pd\n",
    "import numpy as np\n",
    "index=pd.date_range('1/1/2000',periods=8)\n",
    "df=pd.DataFrame(np.random.rand(8,3),index=index,columns=list('ABC'))\n",
    "df['0']=df['A']/df['B']\n",
    "df['E']=np.sum(df,axis=1)\n",
    "df.head()"
   ]
  },
  {
   "cell_type": "code",
   "execution_count": 21,
   "id": "1c147b1b-2bd5-4d1c-b010-98b49a093f13",
   "metadata": {
    "tags": []
   },
   "outputs": [
    {
     "data": {
      "text/html": [
       "<div>\n",
       "<style scoped>\n",
       "    .dataframe tbody tr th:only-of-type {\n",
       "        vertical-align: middle;\n",
       "    }\n",
       "\n",
       "    .dataframe tbody tr th {\n",
       "        vertical-align: top;\n",
       "    }\n",
       "\n",
       "    .dataframe thead th {\n",
       "        text-align: right;\n",
       "    }\n",
       "</style>\n",
       "<table border=\"1\" class=\"dataframe\">\n",
       "  <thead>\n",
       "    <tr style=\"text-align: right;\">\n",
       "      <th></th>\n",
       "      <th>A</th>\n",
       "      <th>B</th>\n",
       "      <th>C</th>\n",
       "      <th>D</th>\n",
       "      <th>E</th>\n",
       "    </tr>\n",
       "  </thead>\n",
       "  <tbody>\n",
       "    <tr>\n",
       "      <th>2000-01-01</th>\n",
       "      <td>0.0</td>\n",
       "      <td>0.533428</td>\n",
       "      <td>0.558296</td>\n",
       "      <td>0.035141</td>\n",
       "      <td>1.273918</td>\n",
       "    </tr>\n",
       "    <tr>\n",
       "      <th>2000-01-02</th>\n",
       "      <td>0.0</td>\n",
       "      <td>0.049168</td>\n",
       "      <td>0.481549</td>\n",
       "      <td>0.532004</td>\n",
       "      <td>1.291879</td>\n",
       "    </tr>\n",
       "    <tr>\n",
       "      <th>2000-01-03</th>\n",
       "      <td>0.0</td>\n",
       "      <td>0.416765</td>\n",
       "      <td>-0.135878</td>\n",
       "      <td>0.122505</td>\n",
       "      <td>1.229076</td>\n",
       "    </tr>\n",
       "    <tr>\n",
       "      <th>2000-01-04</th>\n",
       "      <td>0.0</td>\n",
       "      <td>0.128303</td>\n",
       "      <td>0.137159</td>\n",
       "      <td>0.297263</td>\n",
       "      <td>2.056187</td>\n",
       "    </tr>\n",
       "    <tr>\n",
       "      <th>2000-01-05</th>\n",
       "      <td>0.0</td>\n",
       "      <td>0.618148</td>\n",
       "      <td>-0.205766</td>\n",
       "      <td>0.027222</td>\n",
       "      <td>1.334200</td>\n",
       "    </tr>\n",
       "  </tbody>\n",
       "</table>\n",
       "</div>"
      ],
      "text/plain": [
       "              A         B         C         D         E\n",
       "2000-01-01  0.0  0.533428  0.558296  0.035141  1.273918\n",
       "2000-01-02  0.0  0.049168  0.481549  0.532004  1.291879\n",
       "2000-01-03  0.0  0.416765 -0.135878  0.122505  1.229076\n",
       "2000-01-04  0.0  0.128303  0.137159  0.297263  2.056187\n",
       "2000-01-05  0.0  0.618148 -0.205766  0.027222  1.334200"
      ]
     },
     "execution_count": 21,
     "metadata": {},
     "output_type": "execute_result"
    }
   ],
   "source": [
    "import pandas as pd\n",
    "import numpy as np\n",
    "index=pd.date_range('1/1/2000',periods=8)\n",
    "df=pd.DataFrame(np.random.rand(8,3),index=index,columns=list('ABC'))\n",
    "df['D']=df['A']/df['B']\n",
    "df['E']=np.sum(df,axis=1)\n",
    "df=df.sub(df['A'],axis=0)\n",
    "df.head()"
   ]
  },
  {
   "cell_type": "code",
   "execution_count": null,
   "id": "57c44b5f-fac3-4763-b78c-438982552adc",
   "metadata": {},
   "outputs": [],
   "source": []
  }
 ],
 "metadata": {
  "kernelspec": {
   "display_name": "Python 3 (ipykernel)",
   "language": "python",
   "name": "python3"
  },
  "language_info": {
   "codemirror_mode": {
    "name": "ipython",
    "version": 3
   },
   "file_extension": ".py",
   "mimetype": "text/x-python",
   "name": "python",
   "nbconvert_exporter": "python",
   "pygments_lexer": "ipython3",
   "version": "3.11.3"
  }
 },
 "nbformat": 4,
 "nbformat_minor": 5
}
