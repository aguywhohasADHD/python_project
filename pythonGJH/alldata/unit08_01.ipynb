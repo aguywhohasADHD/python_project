{
 "cells": [
  {
   "cell_type": "code",
   "execution_count": 2,
   "id": "b160c1a7-2caa-475c-b25f-4f0d364ff81e",
   "metadata": {
    "tags": []
   },
   "outputs": [
    {
     "name": "stdout",
     "output_type": "stream",
     "text": [
      "한양대 2호선 96.08\n"
     ]
    }
   ],
   "source": [
    "import csv\n",
    "f=open('subwayfee.csv')\n",
    "data=csv.reader(f)\n",
    "next(data)\n",
    "mx=0\n",
    "rate=0\n",
    "mx_station=''\n",
    "for row in data:\n",
    "    for i in range(4,8):\n",
    "        row[i]=int(row[i])\n",
    "    if row[6]!=0 and (row[4]+row[6])>100000:\n",
    "        rate=row[4]/(row[4]+row[6])\n",
    "        if rate>mx:\n",
    "            mx=rate\n",
    "            mx_station=row[3]+' '+row[1]\n",
    "print(mx_station,round(mx*100,2))"
   ]
  },
  {
   "cell_type": "code",
   "execution_count": 3,
   "id": "c7df84c9-b505-4997-906d-3ede8e997338",
   "metadata": {},
   "outputs": [
    {
     "name": "stdout",
     "output_type": "stream",
     "text": [
      "강남 2호선 2117612\n",
      "홍대입구 2호선 2145437\n",
      "종로3가 1호선 318832\n",
      "제기동 1호선 302727\n"
     ]
    }
   ],
   "source": [
    "import csv\n",
    "f=open('subwayfee.csv')\n",
    "data=csv.reader(f)\n",
    "next(data)\n",
    "mx=[0]*4\n",
    "mx_station=['']*4\n",
    "for row in data:\n",
    "    for i in range(4,8):\n",
    "        row[i]=int(row[i])\n",
    "        if row[i]>mx[i-4]:\n",
    "            mx[i-4]=row[i]\n",
    "            mx_station[i-4]=row[3]+' '+row[1]\n",
    "for i in range(4):\n",
    "    print(mx_station[i],mx[i])"
   ]
  },
  {
   "cell_type": "code",
   "execution_count": 4,
   "id": "fa57da50-5bcb-45b7-b54f-4eae3469acec",
   "metadata": {
    "tags": []
   },
   "outputs": [
    {
     "name": "stdout",
     "output_type": "stream",
     "text": [
      "유임승차 : 강남 2호선 2117612\n",
      "유임하차 : 홍대입구 2호선 2145437\n",
      "무임승차 : 종로3가 1호선 318832\n",
      "무임하차 : 제기동 1호선 302727\n"
     ]
    }
   ],
   "source": [
    "import csv\n",
    "f=open('subwayfee.csv')\n",
    "data=csv.reader(f)\n",
    "next(data)\n",
    "mx=[0]*4\n",
    "mx_station=['']*4\n",
    "label=['유임승차','유임하차','무임승차','무임하차']\n",
    "for row in data:\n",
    "    for i in range(4,8):\n",
    "        row[i]=int(row[i])\n",
    "        if row[i]>mx[i-4]:\n",
    "            mx[i-4]=row[i]\n",
    "            mx_station[i-4]=row[3]+' '+row[1]\n",
    "for i in range(4):\n",
    "    print(label[i]+' : '+mx_station[i],mx[i])"
   ]
  }
 ],
 "metadata": {
  "kernelspec": {
   "display_name": "Python 3 (ipykernel)",
   "language": "python",
   "name": "python3"
  },
  "language_info": {
   "codemirror_mode": {
    "name": "ipython",
    "version": 3
   },
   "file_extension": ".py",
   "mimetype": "text/x-python",
   "name": "python",
   "nbconvert_exporter": "python",
   "pygments_lexer": "ipython3",
   "version": "3.11.3"
  }
 },
 "nbformat": 4,
 "nbformat_minor": 5
}
